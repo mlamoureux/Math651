{
 "cells": [
  {
   "cell_type": "markdown",
   "metadata": {
    "collapsed": true
   },
   "source": [
    "# Math 651 - University of Calgary\n",
    "# Mathematical Modeling for Industry\n",
    "# Winter 2016\n",
    "\n"
   ]
  },
  {
   "cell_type": "markdown",
   "metadata": {},
   "source": [
    "# Lecture 7 - Monday, February 29"
   ]
  },
  {
   "cell_type": "markdown",
   "metadata": {},
   "source": [
    "## Structure of an Industrial Math Report / Project\n",
    "\n",
    "I've uploaded a few examples of industrial math modeling reports. Some are better than others, so take a look at the samples (and others online) to get an idea of what appeals to you.\n",
    "\n",
    "Let's stress that the basic structure of the report is this:\n",
    "1. Introduction\n",
    "2. Main Body\n",
    "3. Conclusion\n",
    "4. Acknowledgements\n",
    "5. References\n",
    "\n",
    "where the _Intro_ and _Conclusion_ are written in non-technical language, that a non-expert should be able to understand. Think of this as something your parents or siblings will read, and so you should use ordinary language that outlines what the report is about, and what overall conclusions you reach. By \"ordinary language\" I don't mean to be overly casual, or sloppy, or elementary. Just still to proper English, stay away from equations and technical jargon, and write how you imagine a good researcher would write in a way that will interest and entice you and your colleagues.\n",
    "\n",
    "Note the _Acknowledgements_ are important -- in addition to thanking anyone who helped out, you often must acknowledge financial support from any grants or companies that helped you out, or even the use of specialized data from somewhere. \n",
    "\n",
    "_References_ -- important. Rather than doing this __last__ in your work, keep track from the beginning of the project all the books and research articles that you work from as you do the project. You can easily grab BibTex entries from MathSciNet if you don't like typing all that info. Stick it all in a file, and then when you are writing your report, all the references are there and ready to use. (And will be properly formatted by BibTex.)\n",
    "\n",
    "Now for the important stuff. \n",
    "\n",
    "The __Main Body__ is where the deep content of the report goes. Industrial math problem reports are different than a pure math paper, where the goal in pure math is usually to present a theorem and proof (along with supporting theory, definitions, lemmas, and so forth). For these applied problems, you must start with a specific problem, find a way (or many ways) to approach the problem mathematically, then use your math to solve the problem in some tangible way. Using real data is important (although sometimes we start with simulated data to rapidly test ideas), using real, accurage computation is also important. And it is very important that somehow you link the mathematical results back to the original problem, and ideally give a concrete answer to the problem.\n",
    "\n",
    "The sections in the Main Body might go like this:\n",
    "\n",
    "Main Body\n",
    "- description of the industrial problem and its relevants to a real industy\n",
    "- a reformulation of the problem in terms of physical processes, statistical models, dynamical models, etc\n",
    "- translation of the physics or statistics into a concrete mathematical model (given time, one might consider several different models) This will include equations, information about data, initial conditions, boundary conditions, etc. \n",
    "- Non-dimensionalizing and/or simplifying the model\n",
    "- mathematical analysis of the model (could include asymptitics) or applying computational methods\n",
    "- applying the analysis/computation to real data\n",
    "- translating the mathematical results into something relevant to the original industrial problem. Ideally, solving the original question that arose in the industrial problem\n",
    "- discussion of the limitations of the model and its applicabilty\n",
    "- perhaps some suggestions for future work. \n",
    "\n",
    "These are a lot of sections! But that is to be expected, as the methods to solve industrial problems are multi-step and complete.\n",
    "\n",
    "As an example, we look at Lindstrom's paper on the Target Fusion Reactor. \n",
    "\n",
    "http://epubs.siam.org/doi/abs/10.1137/140984142\n",
    "\n",
    "Here is a quick summary of his sections, as labeled in the paper. \n",
    "\n",
    "- 1.. Introduction. Discussing the goal is to build on a simplified model of a fusion reactor, originally developed for numerical modeling, by doing a mathematical analysis of the model to verify the numerics.\n",
    "\n",
    "- 1.1 A design for a magnetized target fusion reactor. He discuss in detail the industrial problem, which is to build a fusion reactor using a sphere of molten lead surrounding a core of hydrogen fuel, to compress the core to the point of fusion. This follows a specific reactor design of the company  General Fusion. The key goal here is to estimate the minimum size of the hydrogen core under compression, which is considered a key parameter indicating the efficiency of the reactor. \n",
    "\n",
    "- 1.2 Discusses the physical model\n",
    "\n",
    "- 2.. Sets up the equations, initial and boundary conditions, non-dimensionalization, and fixes an asymptotic parameters. \n",
    "\n",
    "- 3.. The formal asymptotic analysis \n",
    "\n",
    "- 4.. Comparision of the analysis with numerical results, using real data. He points out the correspondance between what his new asymptotc analysis has to say about the minimum radius of the core, compared to the numerical results from an earlier, computational paper. (This answers teh original problem.)\n",
    "\n",
    "- 4.6 Discusses the limitations of the model, and even points out some weaknesses in the basic reactor design (e.g. very little energy actually is transfered from the lead ball to the hydrogen core). \n",
    "\n",
    "- 5.. Conclusions and future work (Maybe not the order I would recommend, but okay)\n",
    "\n",
    "-  Acknowledgements\n",
    "\n",
    "- References (21 of them, even for this short paper)\n",
    "\n",
    "Another interesting example is Ockenon and Tayler's paper on those wires that sit above electric trains -- considered a \"classic\" in applied modeling, and discussed in Howison's text. (On the Pantograph). You can see the paper here http://rspa.royalsocietypublishing.org/content/322/1551/447   or look at it on our BaseCamp project.\n",
    "\n",
    "\n",
    "\n",
    "\n",
    "\n",
    "\n",
    "\n",
    "\n",
    "\n",
    "\n"
   ]
  },
  {
   "cell_type": "markdown",
   "metadata": {},
   "source": [
    "\n",
    "## Matlab on Jupyter\n",
    "\n",
    "How to connect your legal copy of Matlab into the Jupyter notebook"
   ]
  },
  {
   "cell_type": "markdown",
   "metadata": {},
   "source": [
    "The goal is to get MATLAB code running inside a Jupyter notebook.\n",
    "\n",
    "I'm following the instructions from this webpage: http://anneurai.net/2015/11/12/matlab-based-ipython-notebooks/\n",
    "\n",
    "The instructions are basically this. (This is for a Mac. Windows should be similar.)\n",
    "```\n",
    "\n",
    "    1. Download and install Anaconda https://www.continuum.io/downloads\n",
    "\n",
    "    2. In terminal, type\n",
    "        pip install pymatbridge\n",
    "        pip install matlab_kernel\n",
    "        python -m matlab_kernel.install\n",
    "\n",
    "    3. Point the kernel to your version of Matlab. I added\n",
    "    export MATLAB_EXECUTABLE=/Applications/MATLAB_R2015b.app/bin/matlab to my .bash_profile file. (For Michael's computer, had to use .../MATLAB_R2015a_mine.app/... because he changed the name of his matlab application .) \n",
    "\n",
    "    4. Restart terminal or load .bash_profile. Type ipython notebook in Terminal. Your browser will open a Jupyter window, where on the right hand side you can go to New -> Notebooks -> Matlab.\n",
    "    \n",
    "    5. You’re now ready to run your notebook! Simply write or copy a block of code from matlab, and click Run. The figures will automatically appear when you are calling any plotting function. When you push your Notebook.ipynb file to GitHub, it will automatically render the layout and figures.\n",
    "```"
   ]
  },
  {
   "cell_type": "markdown",
   "metadata": {},
   "source": [
    "Just to show this all works, we switch to the Matlab kernel (in the Jupyter Notebook, just go to the \"Kernel\" menu and choose \"Change Kernel\", selecting Matlab. We can do the following simple command in Matlab, without any hassle. "
   ]
  },
  {
   "cell_type": "code",
   "execution_count": null,
   "metadata": {
    "collapsed": false
   },
   "outputs": [],
   "source": [
    "2+2"
   ]
  },
  {
   "cell_type": "code",
   "execution_count": null,
   "metadata": {
    "collapsed": false
   },
   "outputs": [],
   "source": [
    "inv([1 2 3; 4 5 6; 7 8 10])"
   ]
  },
  {
   "cell_type": "code",
   "execution_count": null,
   "metadata": {
    "collapsed": false
   },
   "outputs": [],
   "source": [
    "x=linspace(-1,1,1000);\n",
    "plot(x,-x+x.^3)"
   ]
  },
  {
   "cell_type": "markdown",
   "metadata": {
    "collapsed": true
   },
   "source": [
    "## Accessing financial data\n",
    "\n",
    "This is a place where you should be trying out your skills in Python. Lots of people make access of online data, and post information about how to do it.\n",
    "\n",
    "For free, historical data on commodities like Oil, you can try this site: http://www.databank.rbs.com\n",
    "This site will download data directly into spreadsheets for you, plot graphs of historical data, etc. Here is an example of oil prices (West Texas Intermdiate), over the last 15 years. Look how low it goes...\n",
    "\n",
    "![Image from RBS DataBank](RBS_graph.jpg)\n",
    "\n",
    "Yahoo supplies current stock and commodity prices. Here is an intereting site that tells you how to download loads of data into a csv file. \n",
    "http://www.financialwisdomforum.org/gummy-stuff/Yahoo-data.htm\n",
    "\n",
    "Here is another site that discusses accessing various financial data sources. http://quant.stackexchange.com/questions/141/what-data-sources-are-available-online\n",
    "\n",
    "\n",
    "\n"
   ]
  },
  {
   "cell_type": "markdown",
   "metadata": {},
   "source": [
    "## Sound in Python\n",
    "\n",
    "On a Mac, I can now input sound from the laptop's microphone, and play sound out the speaker. This is described in a separate Notebook called PythonSound.ipynb   Note that you can also play sounds in Matlab, although this seems to fail every now and then."
   ]
  },
  {
   "cell_type": "markdown",
   "metadata": {},
   "source": [
    "\n",
    "## Using Github\n",
    "\n",
    "Some comments from having listened to the inventor, understanding his conception of how Git is useful. \n",
    "\n",
    "Linus Torvalds, the inventor of Linux, is also the author of Git. Which is a program that tracks changes to files on your computer. Think of it as taking a snapshot of your project and all its files, and saves these snapshots so you can always go back to them.\n",
    "\n",
    "Torvalds says he really likes \"command lines\" for telling the computer exactly what to do. So that's why GIT always seems to work best from a terminal. (I like graphical user interfaces, probably because I don't like typing. Oh well.)\n",
    "\n",
    "He also says he doesn't like working with people very much. So he created GIT so that he could manage his interactions with the many people working on contributing to the code in Linux. \n",
    "\n",
    "GIT is different than GITHUB. Git is a program, that let's you manage files as they get revised and editted. This can include a folder of files on your laptop, that has nothing to do with anyone else out on the web. You ask GIT to track certain files, and when you have made changes that you are happy with, you \"commit\" these files to be saved via GIT. There is some big database that tracks everything for you.\n",
    "\n",
    "GITHUB is a server that holds a bunch of projects -- or repositories as they are called. This is a way for people to see each other's code, and to share in the development of that code. \n",
    "\n",
    "You often will \"clone\" a whole project off of GITHUB, then use it on your laptop's personal files. You can update your project by pulling any new changes off GITHUB. And if you make changes on your local files, if you want to share them, you can push them back up to the GITHUB repository (which is out on the web). \n",
    "\n",
    "So, it is a good idea to start your work by learning how to use GIT just on your laptop. Learn how to track files, stage them, commit them. Remove them, rename them, etc etc. All using the command line interface (yawn). \n",
    "\n",
    "Here is a good place to start reading about Git.  https://git-scm.com/book/en/v2/Getting-Started-Git-Basics\n",
    "\n",
    "Then you should start using github itself to post and share your code publically. \n",
    "\n"
   ]
  },
  {
   "cell_type": "markdown",
   "metadata": {
    "collapsed": true
   },
   "source": [
    "# Lecture 8 - Tuesday, March 1"
   ]
  },
  {
   "cell_type": "markdown",
   "metadata": {},
   "source": [
    "## Using Pylab\n",
    "\n",
    "Pylab is a collection of Numpy and Matplotlib commands that you can load in, to make Python more useful for numerical work. Sort of like Matlab without the cost.\n",
    "\n",
    "Run it in a Jupyter notebook, starting with the %pylab inline command.\n",
    "This will load in numpy and matplotlib, polluting the main namespace as it does so. For smaller projects, this is okay. \n",
    "\n",
    "\n",
    "\n"
   ]
  },
  {
   "cell_type": "code",
   "execution_count": 1,
   "metadata": {
    "collapsed": false
   },
   "outputs": [
    {
     "name": "stdout",
     "output_type": "stream",
     "text": [
      "Populating the interactive namespace from numpy and matplotlib\n"
     ]
    }
   ],
   "source": [
    "%pylab inline"
   ]
  },
  {
   "cell_type": "markdown",
   "metadata": {},
   "source": [
    "To make a simple vector like in Matlab, you use the array command like this:"
   ]
  },
  {
   "cell_type": "code",
   "execution_count": 2,
   "metadata": {
    "collapsed": false
   },
   "outputs": [
    {
     "data": {
      "text/plain": [
       "[<matplotlib.lines.Line2D at 0x10be424d0>]"
      ]
     },
     "execution_count": 2,
     "metadata": {},
     "output_type": "execute_result"
    },
    {
     "data": {
      "image/png": "[encoded data removed]",
      "text/plain": [
       "<matplotlib.figure.Figure at 0x10bd83a90>"
      ]
     },
     "metadata": {},
     "output_type": "display_data"
    }
   ],
   "source": [
    "x=array([1,2,3])\n",
    "plot(x,x*x)"
   ]
  },
  {
   "cell_type": "code",
   "execution_count": 3,
   "metadata": {
    "collapsed": false
   },
   "outputs": [
    {
     "data": {
      "text/plain": [
       "[<matplotlib.lines.Line2D at 0x10c2cc590>]"
      ]
     },
     "execution_count": 3,
     "metadata": {},
     "output_type": "execute_result"
    },
    {
     "data": {
      "image/png": "[encoded data removed]",
      "text/plain": [
       "<matplotlib.figure.Figure at 0x10bddd110>"
      ]
     },
     "metadata": {},
     "output_type": "display_data"
    }
   ],
   "source": [
    "# Here is how to do a simple plot\n",
    "x =linspace(0,20,1000)\n",
    "y=sin(x)\n",
    "plot(x,y)"
   ]
  },
  {
   "cell_type": "code",
   "execution_count": 4,
   "metadata": {
    "collapsed": false
   },
   "outputs": [
    {
     "data": {
      "text/plain": [
       "<matplotlib.text.Text at 0x10c41c750>"
      ]
     },
     "execution_count": 4,
     "metadata": {},
     "output_type": "execute_result"
    },
    {
     "data": {
      "image/png": "[encoded data removed]",
      "text/plain": [
       "<matplotlib.figure.Figure at 0x10c1b9050>"
      ]
     },
     "metadata": {},
     "output_type": "display_data"
    }
   ],
   "source": [
    "# Here is a better plot with labels and limits\n",
    "x =linspace(0,10,1000)\n",
    "y=sin(2*pi*x)\n",
    "plot(x,y)\n",
    "ylim(-1.2,1.2)\n",
    "xlabel('This is the x axis')\n",
    "ylabel('this is the yaxis')\n",
    "title(r'$\\sin(2\\pi x)$')  # using a TeX string for a title"
   ]
  },
  {
   "cell_type": "code",
   "execution_count": 5,
   "metadata": {
    "collapsed": false
   },
   "outputs": [
    {
     "data": {
      "text/plain": [
       "<matplotlib.image.AxesImage at 0x10c49f1d0>"
      ]
     },
     "execution_count": 5,
     "metadata": {},
     "output_type": "execute_result"
    },
    {
     "data": {
      "image/png": "[encoded data removed]",
      "text/plain": [
       "<matplotlib.figure.Figure at 0x10c1e2c50>"
      ]
     },
     "metadata": {},
     "output_type": "display_data"
    }
   ],
   "source": [
    "# Some arrays for image displays\n",
    "x = identity(256)\n",
    "imshow(x)"
   ]
  },
  {
   "cell_type": "code",
   "execution_count": 6,
   "metadata": {
    "collapsed": false
   },
   "outputs": [
    {
     "data": {
      "text/plain": [
       "<matplotlib.image.AxesImage at 0x10d15e850>"
      ]
     },
     "execution_count": 6,
     "metadata": {},
     "output_type": "execute_result"
    },
    {
     "data": {
      "image/png": "[encoded data removed]",
      "text/plain": [
       "<matplotlib.figure.Figure at 0x10c627390>"
      ]
     },
     "metadata": {},
     "output_type": "display_data"
    }
   ],
   "source": [
    "# greyscale might be a better choice for the color map\n",
    "imshow(x,cmap = cm.Greys_r)"
   ]
  },
  {
   "cell_type": "code",
   "execution_count": 7,
   "metadata": {
    "collapsed": false
   },
   "outputs": [
    {
     "data": {
      "text/plain": [
       "<matplotlib.image.AxesImage at 0x10d40cd90>"
      ]
     },
     "execution_count": 7,
     "metadata": {},
     "output_type": "execute_result"
    },
    {
     "data": {
      "image/png": "[encoded data removed]",
      "text/plain": [
       "<matplotlib.figure.Figure at 0x10d29d1d0>"
      ]
     },
     "metadata": {},
     "output_type": "display_data"
    }
   ],
   "source": [
    "# What happens if you take a 2D FFT of a string line?\n",
    "imshow(abs(fft2(x)),cmap = cm.Greys_r)"
   ]
  },
  {
   "cell_type": "code",
   "execution_count": 12,
   "metadata": {
    "collapsed": false
   },
   "outputs": [
    {
     "data": {
      "text/plain": [
       "<matplotlib.image.AxesImage at 0x10e37db90>"
      ]
     },
     "execution_count": 12,
     "metadata": {},
     "output_type": "execute_result"
    },
    {
     "data": {
      "image/png": "[encoded data removed]",
      "text/plain": [
       "<matplotlib.figure.Figure at 0x10e0426d0>"
      ]
     },
     "metadata": {},
     "output_type": "display_data"
    }
   ],
   "source": [
    "# Let's look at a 2D Gaussian in a square [-1,1]x[-1,1]\n",
    "# radius is the parameter controlling the width\n",
    "# We use a meshgrid to compute matrices of x and y values\n",
    "x = linspace(-1,1,256)\n",
    "y = linspace(-1,1,256)\n",
    "X,Y = meshgrid(x,y)  # these are matrices!\n",
    "radius = .05\n",
    "gcirc = exp(-(X*X + Y*Y)/(radius*radius))\n",
    "imshow(gcirc)"
   ]
  },
  {
   "cell_type": "code",
   "execution_count": 13,
   "metadata": {
    "collapsed": false
   },
   "outputs": [
    {
     "data": {
      "text/plain": [
       "<matplotlib.image.AxesImage at 0x10e565f90>"
      ]
     },
     "execution_count": 13,
     "metadata": {},
     "output_type": "execute_result"
    },
    {
     "data": {
      "image/png": "[encoded data removed]",
      "text/plain": [
       "<matplotlib.figure.Figure at 0x10e504a90>"
      ]
     },
     "metadata": {},
     "output_type": "display_data"
    }
   ],
   "source": [
    "# Take the 2D FFT. We use fftshift to move the original into the center of the square\n",
    "# Note that the radius of the fft image is different than that of the original.\n",
    "# Try changing the original to see how the fft radius changes.\n",
    "imshow(abs(fftshift(fft2(gcirc))))"
   ]
  },
  {
   "cell_type": "markdown",
   "metadata": {},
   "source": [
    "## Pandas in Python\n",
    "\n",
    "### How to access real data from the web and apply data analysis tools.\n",
    "\n",
    "I am using the book __Python for Data Analysis__ by Wes McKinney as a reference for this section.\n",
    "\n",
    "The point of using Python for this is that a lot of people have created good code to do this. \n",
    "\n",
    "The pandas name comes from Panel Data, an econometrics terms for multidimensional structured data sets, as well as from Python Data Analysis.\n",
    "\n",
    "The dataframe objects that appear in pandas originated in R. But apparently thery have more functionality in Python than in R. \n",
    "\n",
    "I will be using pylab as well in this section (See above), so we can make use of Numpy and Matplotlib."
   ]
  },
  {
   "cell_type": "code",
   "execution_count": 14,
   "metadata": {
    "collapsed": true
   },
   "outputs": [],
   "source": [
    "# Get some basic tools\n",
    "from pandas import Series, DataFrame\n",
    "import pandas as pd\n"
   ]
  },
  {
   "cell_type": "code",
   "execution_count": 15,
   "metadata": {
    "collapsed": false
   },
   "outputs": [
    {
     "data": {
      "text/plain": [
       "0    4\n",
       "1    7\n",
       "2   -5\n",
       "3    3\n",
       "dtype: int64"
      ]
     },
     "execution_count": 15,
     "metadata": {},
     "output_type": "execute_result"
    }
   ],
   "source": [
    "# Here is a simple series, which is a labeled list of numbers\n",
    "obj=Series([4,7,-5,3])\n",
    "obj"
   ]
  },
  {
   "cell_type": "code",
   "execution_count": 16,
   "metadata": {
    "collapsed": false
   },
   "outputs": [
    {
     "data": {
      "text/plain": [
       "Bob      100\n",
       "Sue       80\n",
       "Ali       40\n",
       "Rita      40\n",
       "Jonah     56\n",
       "dtype: int64"
      ]
     },
     "execution_count": 16,
     "metadata": {},
     "output_type": "execute_result"
    }
   ],
   "source": [
    "# It is more useful to give meaningful labels to the items in a series. \n",
    "# Here are some students and their grades\n",
    "grds = Series([100,80,40,40,56],['Bob','Sue','Ali','Rita','Jonah'])\n",
    "grds"
   ]
  },
  {
   "cell_type": "code",
   "execution_count": 17,
   "metadata": {
    "collapsed": false
   },
   "outputs": [
    {
     "data": {
      "text/plain": [
       "Bob      110\n",
       "Sue       90\n",
       "Ali       50\n",
       "Rita      50\n",
       "Jonah     66\n",
       "dtype: int64"
      ]
     },
     "execution_count": 17,
     "metadata": {},
     "output_type": "execute_result"
    }
   ],
   "source": [
    "# These students are so good, I want to give them each another 10 percent\n",
    "grds+10"
   ]
  },
  {
   "cell_type": "markdown",
   "metadata": {},
   "source": [
    "### Loading data off the web\n",
    "To get away from the highly contentious issues of oil prices and political parties, let's look at some simple stock prices -- say Apple and Microsoft. We can import some basic webtools to get prices directly from Yahoo.\n"
   ]
  },
  {
   "cell_type": "code",
   "execution_count": 18,
   "metadata": {
    "collapsed": false
   },
   "outputs": [
    {
     "name": "stderr",
     "output_type": "stream",
     "text": [
      "/Users/mikel/Library/Enthought/Canopy_64bit/User/lib/python2.7/site-packages/pandas/io/data.py:33: FutureWarning: \n",
      "The pandas.io.data module is moved to a separate package (pandas-datareader) and will be removed from pandas in a future version.\n",
      "After installing the pandas-datareader package (https://github.com/pydata/pandas-datareader), you can change the import ``from pandas.io import data, wb`` to ``from pandas_datareader import data, wb``.\n",
      "  FutureWarning)\n"
     ]
    }
   ],
   "source": [
    "# Get some tools\n",
    "import pandas.io.data as web\n"
   ]
  },
  {
   "cell_type": "code",
   "execution_count": 19,
   "metadata": {
    "collapsed": false
   },
   "outputs": [
    {
     "data": {
      "text/plain": [
       "[<matplotlib.lines.Line2D at 0x10ceae410>]"
      ]
     },
     "execution_count": 19,
     "metadata": {},
     "output_type": "execute_result"
    },
    {
     "data": {
      "image/png": "[encoded data removed]",
      "text/plain": [
       "<matplotlib.figure.Figure at 0x10e5af590>"
      ]
     },
     "metadata": {},
     "output_type": "display_data"
    }
   ],
   "source": [
    "# Here are apple and microsoft closing prices since 2001\n",
    "aapl = web.get_data_yahoo('AAPL','2001-01-01')['Adj Close']\n",
    "msft = web.get_data_yahoo('MSFT','2001-01-01')['Adj Close']\n",
    "subplot(2,1,1)\n",
    "plot(aapl)\n",
    "subplot(2,1,2)\n",
    "plot(msft)"
   ]
  },
  {
   "cell_type": "code",
   "execution_count": 20,
   "metadata": {
    "collapsed": false
   },
   "outputs": [
    {
     "data": {
      "text/plain": [
       "Date\n",
       "2001-01-02      0.983970\n",
       "2001-01-03      1.083194\n",
       "2001-01-04      1.128671\n",
       "2001-01-05      1.083194\n",
       "2001-01-08      1.095597\n",
       "2001-01-09      1.136940\n",
       "2001-01-10      1.095597\n",
       "2001-01-11      1.190686\n",
       "2001-01-12      1.136940\n",
       "2001-01-16      1.132806\n",
       "2001-01-17      1.112134\n",
       "2001-01-18      1.236164\n",
       "2001-01-19      1.289910\n",
       "2001-01-22      1.273373\n",
       "2001-01-23      1.356059\n",
       "2001-01-24      1.356059\n",
       "2001-01-25      1.318850\n",
       "2001-01-26      1.294044\n",
       "2001-01-29      1.434612\n",
       "2001-01-30      1.438746\n",
       "2001-01-31      1.430477\n",
       "2001-02-01      1.397403\n",
       "2001-02-02      1.364328\n",
       "2001-02-05      1.335388\n",
       "2001-02-06      1.397403\n",
       "2001-02-07      1.372597\n",
       "2001-02-08      1.372597\n",
       "2001-02-09      1.265104\n",
       "2001-02-12      1.302313\n",
       "2001-02-13      1.265104\n",
       "                 ...    \n",
       "2016-01-15     96.605790\n",
       "2016-01-19     96.138333\n",
       "2016-01-20     96.267629\n",
       "2016-01-21     95.780276\n",
       "2016-01-22    100.872638\n",
       "2016-01-25     98.903329\n",
       "2016-01-26     99.450356\n",
       "2016-01-27     92.915814\n",
       "2016-01-28     93.582196\n",
       "2016-01-29     96.814656\n",
       "2016-02-01     95.909571\n",
       "2016-02-02     93.970098\n",
       "2016-02-03     95.830001\n",
       "2016-02-04     96.599998\n",
       "2016-02-05     94.019997\n",
       "2016-02-08     95.010002\n",
       "2016-02-09     94.989998\n",
       "2016-02-10     94.269997\n",
       "2016-02-11     93.699997\n",
       "2016-02-12     93.989998\n",
       "2016-02-16     96.639999\n",
       "2016-02-17     98.120003\n",
       "2016-02-18     96.260002\n",
       "2016-02-19     96.040001\n",
       "2016-02-22     96.879997\n",
       "2016-02-23     94.690002\n",
       "2016-02-24     96.099998\n",
       "2016-02-25     96.760002\n",
       "2016-02-26     96.910004\n",
       "2016-02-29     96.690002\n",
       "Name: Adj Close, dtype: float64"
      ]
     },
     "execution_count": 20,
     "metadata": {},
     "output_type": "execute_result"
    }
   ],
   "source": [
    "aapl\n"
   ]
  },
  {
   "cell_type": "code",
   "execution_count": 21,
   "metadata": {
    "collapsed": false
   },
   "outputs": [
    {
     "data": {
      "text/plain": [
       "[<matplotlib.lines.Line2D at 0x10d025590>]"
      ]
     },
     "execution_count": 21,
     "metadata": {},
     "output_type": "execute_result"
    },
    {
     "data": {
      "image/png": "[encoded data removed]",
      "text/plain": [
       "<matplotlib.figure.Figure at 0x10ffaa750>"
      ]
     },
     "metadata": {},
     "output_type": "display_data"
    }
   ],
   "source": [
    "# Let's look at the changes in the stock prices, normalized as a percentage\n",
    "aapl_rets = aapl.pct_change()\n",
    "msft_rets = msft.pct_change()\n",
    "subplot(2,1,1)\n",
    "plot(aapl_rets)\n",
    "subplot(2,1,2)\n",
    "plot(msft_rets)"
   ]
  },
  {
   "cell_type": "code",
   "execution_count": 22,
   "metadata": {
    "collapsed": false
   },
   "outputs": [
    {
     "data": {
      "text/plain": [
       "<matplotlib.axes._subplots.AxesSubplot at 0x10e5feb10>"
      ]
     },
     "execution_count": 22,
     "metadata": {},
     "output_type": "execute_result"
    },
    {
     "data": {
      "image/png": "[encoded data removed]",
      "text/plain": [
       "<matplotlib.figure.Figure at 0x10e5e7290>"
      ]
     },
     "metadata": {},
     "output_type": "display_data"
    }
   ],
   "source": [
    "# Let's look at the correlation between these two series\n",
    "pd.rolling_corr(aapl_rets, msft_rets, 250).plot()"
   ]
  },
  {
   "cell_type": "markdown",
   "metadata": {},
   "source": [
    "### Getting fancy.\n",
    "Now, we can use some more sophisticated statistical tools, like least squares regression. However, I had to do some work to get Python to recognize these items. But I didn't work too hard, I just followed the error messages.\n",
    "\n",
    "It became clear that I needed to go back to a terminal window to load in some packages. The two commands I had to type in were\n",
    "- pip install statsmodels\n",
    "- pip install patsy\n",
    "\n",
    "'pip' is an 'python installer package' that install packages of code onto your computer (or whatever machine is running your python). The two packages 'statsmodels' and 'patsy' are assorted statistical packages. I don't know much about them, but they are easy to find on the web."
   ]
  },
  {
   "cell_type": "code",
   "execution_count": 23,
   "metadata": {
    "collapsed": false
   },
   "outputs": [],
   "source": [
    "# We may also try a least square regression, also built in as a panda function\n",
    "model = pd.ols(y=aapl_rets, x={'MSFT': msft_rets},window=256)\n"
   ]
  },
  {
   "cell_type": "code",
   "execution_count": 24,
   "metadata": {
    "collapsed": false
   },
   "outputs": [
    {
     "data": {
      "text/html": [
       "<div>\n",
       "<table border=\"1\" class=\"dataframe\">\n",
       "  <thead>\n",
       "    <tr style=\"text-align: right;\">\n",
       "      <th></th>\n",
       "      <th>MSFT</th>\n",
       "      <th>intercept</th>\n",
       "    </tr>\n",
       "    <tr>\n",
       "      <th>Date</th>\n",
       "      <th></th>\n",
       "      <th></th>\n",
       "    </tr>\n",
       "  </thead>\n",
       "  <tbody>\n",
       "    <tr>\n",
       "      <th>2002-01-14</th>\n",
       "      <td>0.796462</td>\n",
       "      <td>0.000416</td>\n",
       "    </tr>\n",
       "    <tr>\n",
       "      <th>2002-01-15</th>\n",
       "      <td>0.788021</td>\n",
       "      <td>0.000417</td>\n",
       "    </tr>\n",
       "    <tr>\n",
       "      <th>2002-01-16</th>\n",
       "      <td>0.789782</td>\n",
       "      <td>0.000191</td>\n",
       "    </tr>\n",
       "    <tr>\n",
       "      <th>2002-01-17</th>\n",
       "      <td>0.802080</td>\n",
       "      <td>0.000600</td>\n",
       "    </tr>\n",
       "    <tr>\n",
       "      <th>2002-01-18</th>\n",
       "      <td>0.793940</td>\n",
       "      <td>0.000671</td>\n",
       "    </tr>\n",
       "    <tr>\n",
       "      <th>2002-01-22</th>\n",
       "      <td>0.796477</td>\n",
       "      <td>0.000718</td>\n",
       "    </tr>\n",
       "    <tr>\n",
       "      <th>2002-01-23</th>\n",
       "      <td>0.797908</td>\n",
       "      <td>0.001172</td>\n",
       "    </tr>\n",
       "    <tr>\n",
       "      <th>2002-01-24</th>\n",
       "      <td>0.786142</td>\n",
       "      <td>0.000960</td>\n",
       "    </tr>\n",
       "    <tr>\n",
       "      <th>2002-01-25</th>\n",
       "      <td>0.781525</td>\n",
       "      <td>0.001102</td>\n",
       "    </tr>\n",
       "    <tr>\n",
       "      <th>2002-01-28</th>\n",
       "      <td>0.782448</td>\n",
       "      <td>0.001064</td>\n",
       "    </tr>\n",
       "    <tr>\n",
       "      <th>2002-01-29</th>\n",
       "      <td>0.782113</td>\n",
       "      <td>0.001196</td>\n",
       "    </tr>\n",
       "    <tr>\n",
       "      <th>2002-01-30</th>\n",
       "      <td>0.764487</td>\n",
       "      <td>0.001069</td>\n",
       "    </tr>\n",
       "    <tr>\n",
       "      <th>2002-01-31</th>\n",
       "      <td>0.784934</td>\n",
       "      <td>0.001246</td>\n",
       "    </tr>\n",
       "    <tr>\n",
       "      <th>2002-02-01</th>\n",
       "      <td>0.784774</td>\n",
       "      <td>0.001254</td>\n",
       "    </tr>\n",
       "    <tr>\n",
       "      <th>2002-02-04</th>\n",
       "      <td>0.774177</td>\n",
       "      <td>0.001252</td>\n",
       "    </tr>\n",
       "    <tr>\n",
       "      <th>2002-02-05</th>\n",
       "      <td>0.781459</td>\n",
       "      <td>0.001383</td>\n",
       "    </tr>\n",
       "    <tr>\n",
       "      <th>2002-02-06</th>\n",
       "      <td>0.781528</td>\n",
       "      <td>0.001354</td>\n",
       "    </tr>\n",
       "    <tr>\n",
       "      <th>2002-02-07</th>\n",
       "      <td>0.792090</td>\n",
       "      <td>0.001506</td>\n",
       "    </tr>\n",
       "    <tr>\n",
       "      <th>2002-02-08</th>\n",
       "      <td>0.785450</td>\n",
       "      <td>0.001019</td>\n",
       "    </tr>\n",
       "    <tr>\n",
       "      <th>2002-02-11</th>\n",
       "      <td>0.788569</td>\n",
       "      <td>0.001084</td>\n",
       "    </tr>\n",
       "    <tr>\n",
       "      <th>2002-02-12</th>\n",
       "      <td>0.793315</td>\n",
       "      <td>0.001001</td>\n",
       "    </tr>\n",
       "    <tr>\n",
       "      <th>2002-02-13</th>\n",
       "      <td>0.796714</td>\n",
       "      <td>0.001117</td>\n",
       "    </tr>\n",
       "    <tr>\n",
       "      <th>2002-02-14</th>\n",
       "      <td>0.796226</td>\n",
       "      <td>0.001075</td>\n",
       "    </tr>\n",
       "    <tr>\n",
       "      <th>2002-02-15</th>\n",
       "      <td>0.801822</td>\n",
       "      <td>0.001176</td>\n",
       "    </tr>\n",
       "    <tr>\n",
       "      <th>2002-02-19</th>\n",
       "      <td>0.804451</td>\n",
       "      <td>0.000885</td>\n",
       "    </tr>\n",
       "    <tr>\n",
       "      <th>2002-02-20</th>\n",
       "      <td>0.814664</td>\n",
       "      <td>0.001097</td>\n",
       "    </tr>\n",
       "    <tr>\n",
       "      <th>2002-02-21</th>\n",
       "      <td>0.830057</td>\n",
       "      <td>0.000799</td>\n",
       "    </tr>\n",
       "    <tr>\n",
       "      <th>2002-02-22</th>\n",
       "      <td>0.818039</td>\n",
       "      <td>0.001174</td>\n",
       "    </tr>\n",
       "    <tr>\n",
       "      <th>2002-02-25</th>\n",
       "      <td>0.822846</td>\n",
       "      <td>0.001161</td>\n",
       "    </tr>\n",
       "    <tr>\n",
       "      <th>2002-02-26</th>\n",
       "      <td>0.821502</td>\n",
       "      <td>0.001248</td>\n",
       "    </tr>\n",
       "    <tr>\n",
       "      <th>...</th>\n",
       "      <td>...</td>\n",
       "      <td>...</td>\n",
       "    </tr>\n",
       "    <tr>\n",
       "      <th>2016-01-15</th>\n",
       "      <td>0.505607</td>\n",
       "      <td>-0.000634</td>\n",
       "    </tr>\n",
       "    <tr>\n",
       "      <th>2016-01-19</th>\n",
       "      <td>0.502796</td>\n",
       "      <td>-0.000563</td>\n",
       "    </tr>\n",
       "    <tr>\n",
       "      <th>2016-01-20</th>\n",
       "      <td>0.503620</td>\n",
       "      <td>-0.000612</td>\n",
       "    </tr>\n",
       "    <tr>\n",
       "      <th>2016-01-21</th>\n",
       "      <td>0.503861</td>\n",
       "      <td>-0.000622</td>\n",
       "    </tr>\n",
       "    <tr>\n",
       "      <th>2016-01-22</th>\n",
       "      <td>0.515974</td>\n",
       "      <td>-0.000409</td>\n",
       "    </tr>\n",
       "    <tr>\n",
       "      <th>2016-01-25</th>\n",
       "      <td>0.520785</td>\n",
       "      <td>-0.000405</td>\n",
       "    </tr>\n",
       "    <tr>\n",
       "      <th>2016-01-26</th>\n",
       "      <td>0.520214</td>\n",
       "      <td>-0.000492</td>\n",
       "    </tr>\n",
       "    <tr>\n",
       "      <th>2016-01-27</th>\n",
       "      <td>0.534533</td>\n",
       "      <td>-0.000772</td>\n",
       "    </tr>\n",
       "    <tr>\n",
       "      <th>2016-01-28</th>\n",
       "      <td>0.530459</td>\n",
       "      <td>-0.000822</td>\n",
       "    </tr>\n",
       "    <tr>\n",
       "      <th>2016-01-29</th>\n",
       "      <td>0.533420</td>\n",
       "      <td>-0.000829</td>\n",
       "    </tr>\n",
       "    <tr>\n",
       "      <th>2016-02-01</th>\n",
       "      <td>0.534050</td>\n",
       "      <td>-0.000863</td>\n",
       "    </tr>\n",
       "    <tr>\n",
       "      <th>2016-02-02</th>\n",
       "      <td>0.553253</td>\n",
       "      <td>-0.000954</td>\n",
       "    </tr>\n",
       "    <tr>\n",
       "      <th>2016-02-03</th>\n",
       "      <td>0.581798</td>\n",
       "      <td>-0.001172</td>\n",
       "    </tr>\n",
       "    <tr>\n",
       "      <th>2016-02-04</th>\n",
       "      <td>0.576185</td>\n",
       "      <td>-0.001204</td>\n",
       "    </tr>\n",
       "    <tr>\n",
       "      <th>2016-02-05</th>\n",
       "      <td>0.583003</td>\n",
       "      <td>-0.001265</td>\n",
       "    </tr>\n",
       "    <tr>\n",
       "      <th>2016-02-08</th>\n",
       "      <td>0.578478</td>\n",
       "      <td>-0.001185</td>\n",
       "    </tr>\n",
       "    <tr>\n",
       "      <th>2016-02-09</th>\n",
       "      <td>0.578641</td>\n",
       "      <td>-0.001163</td>\n",
       "    </tr>\n",
       "    <tr>\n",
       "      <th>2016-02-10</th>\n",
       "      <td>0.577138</td>\n",
       "      <td>-0.001228</td>\n",
       "    </tr>\n",
       "    <tr>\n",
       "      <th>2016-02-11</th>\n",
       "      <td>0.577223</td>\n",
       "      <td>-0.001246</td>\n",
       "    </tr>\n",
       "    <tr>\n",
       "      <th>2016-02-12</th>\n",
       "      <td>0.576054</td>\n",
       "      <td>-0.001238</td>\n",
       "    </tr>\n",
       "    <tr>\n",
       "      <th>2016-02-16</th>\n",
       "      <td>0.580575</td>\n",
       "      <td>-0.001204</td>\n",
       "    </tr>\n",
       "    <tr>\n",
       "      <th>2016-02-17</th>\n",
       "      <td>0.580022</td>\n",
       "      <td>-0.001265</td>\n",
       "    </tr>\n",
       "    <tr>\n",
       "      <th>2016-02-18</th>\n",
       "      <td>0.583302</td>\n",
       "      <td>-0.001436</td>\n",
       "    </tr>\n",
       "    <tr>\n",
       "      <th>2016-02-19</th>\n",
       "      <td>0.582090</td>\n",
       "      <td>-0.001439</td>\n",
       "    </tr>\n",
       "    <tr>\n",
       "      <th>2016-02-22</th>\n",
       "      <td>0.583177</td>\n",
       "      <td>-0.001420</td>\n",
       "    </tr>\n",
       "    <tr>\n",
       "      <th>2016-02-23</th>\n",
       "      <td>0.585008</td>\n",
       "      <td>-0.001468</td>\n",
       "    </tr>\n",
       "    <tr>\n",
       "      <th>2016-02-24</th>\n",
       "      <td>0.585719</td>\n",
       "      <td>-0.001449</td>\n",
       "    </tr>\n",
       "    <tr>\n",
       "      <th>2016-02-25</th>\n",
       "      <td>0.585693</td>\n",
       "      <td>-0.001448</td>\n",
       "    </tr>\n",
       "    <tr>\n",
       "      <th>2016-02-26</th>\n",
       "      <td>0.582789</td>\n",
       "      <td>-0.001417</td>\n",
       "    </tr>\n",
       "    <tr>\n",
       "      <th>2016-02-29</th>\n",
       "      <td>0.580543</td>\n",
       "      <td>-0.001496</td>\n",
       "    </tr>\n",
       "  </tbody>\n",
       "</table>\n",
       "<p>3556 rows × 2 columns</p>\n",
       "</div>"
      ],
      "text/plain": [
       "                MSFT  intercept\n",
       "Date                           \n",
       "2002-01-14  0.796462   0.000416\n",
       "2002-01-15  0.788021   0.000417\n",
       "2002-01-16  0.789782   0.000191\n",
       "2002-01-17  0.802080   0.000600\n",
       "2002-01-18  0.793940   0.000671\n",
       "2002-01-22  0.796477   0.000718\n",
       "2002-01-23  0.797908   0.001172\n",
       "2002-01-24  0.786142   0.000960\n",
       "2002-01-25  0.781525   0.001102\n",
       "2002-01-28  0.782448   0.001064\n",
       "2002-01-29  0.782113   0.001196\n",
       "2002-01-30  0.764487   0.001069\n",
       "2002-01-31  0.784934   0.001246\n",
       "2002-02-01  0.784774   0.001254\n",
       "2002-02-04  0.774177   0.001252\n",
       "2002-02-05  0.781459   0.001383\n",
       "2002-02-06  0.781528   0.001354\n",
       "2002-02-07  0.792090   0.001506\n",
       "2002-02-08  0.785450   0.001019\n",
       "2002-02-11  0.788569   0.001084\n",
       "2002-02-12  0.793315   0.001001\n",
       "2002-02-13  0.796714   0.001117\n",
       "2002-02-14  0.796226   0.001075\n",
       "2002-02-15  0.801822   0.001176\n",
       "2002-02-19  0.804451   0.000885\n",
       "2002-02-20  0.814664   0.001097\n",
       "2002-02-21  0.830057   0.000799\n",
       "2002-02-22  0.818039   0.001174\n",
       "2002-02-25  0.822846   0.001161\n",
       "2002-02-26  0.821502   0.001248\n",
       "...              ...        ...\n",
       "2016-01-15  0.505607  -0.000634\n",
       "2016-01-19  0.502796  -0.000563\n",
       "2016-01-20  0.503620  -0.000612\n",
       "2016-01-21  0.503861  -0.000622\n",
       "2016-01-22  0.515974  -0.000409\n",
       "2016-01-25  0.520785  -0.000405\n",
       "2016-01-26  0.520214  -0.000492\n",
       "2016-01-27  0.534533  -0.000772\n",
       "2016-01-28  0.530459  -0.000822\n",
       "2016-01-29  0.533420  -0.000829\n",
       "2016-02-01  0.534050  -0.000863\n",
       "2016-02-02  0.553253  -0.000954\n",
       "2016-02-03  0.581798  -0.001172\n",
       "2016-02-04  0.576185  -0.001204\n",
       "2016-02-05  0.583003  -0.001265\n",
       "2016-02-08  0.578478  -0.001185\n",
       "2016-02-09  0.578641  -0.001163\n",
       "2016-02-10  0.577138  -0.001228\n",
       "2016-02-11  0.577223  -0.001246\n",
       "2016-02-12  0.576054  -0.001238\n",
       "2016-02-16  0.580575  -0.001204\n",
       "2016-02-17  0.580022  -0.001265\n",
       "2016-02-18  0.583302  -0.001436\n",
       "2016-02-19  0.582090  -0.001439\n",
       "2016-02-22  0.583177  -0.001420\n",
       "2016-02-23  0.585008  -0.001468\n",
       "2016-02-24  0.585719  -0.001449\n",
       "2016-02-25  0.585693  -0.001448\n",
       "2016-02-26  0.582789  -0.001417\n",
       "2016-02-29  0.580543  -0.001496\n",
       "\n",
       "[3556 rows x 2 columns]"
      ]
     },
     "execution_count": 24,
     "metadata": {},
     "output_type": "execute_result"
    }
   ],
   "source": [
    "model.beta"
   ]
  },
  {
   "cell_type": "code",
   "execution_count": 25,
   "metadata": {
    "collapsed": false
   },
   "outputs": [
    {
     "data": {
      "text/plain": [
       "<matplotlib.axes._subplots.AxesSubplot at 0x10d011950>"
      ]
     },
     "execution_count": 25,
     "metadata": {},
     "output_type": "execute_result"
    },
    {
     "data": {
      "image/png": "[encoded data removed]",
      "text/plain": [
       "<matplotlib.figure.Figure at 0x111a658d0>"
      ]
     },
     "metadata": {},
     "output_type": "display_data"
    }
   ],
   "source": [
    "model.beta['MSFT'].plot()"
   ]
  },
  {
   "cell_type": "code",
   "execution_count": 26,
   "metadata": {
    "collapsed": false
   },
   "outputs": [
    {
     "data": {
      "text/plain": [
       "<matplotlib.text.Text at 0x114cf8150>"
      ]
     },
     "execution_count": 26,
     "metadata": {},
     "output_type": "execute_result"
    },
    {
     "data": {
      "image/png": "[encoded data removed]",
      "text/plain": [
       "<matplotlib.figure.Figure at 0x113e76f90>"
      ]
     },
     "metadata": {},
     "output_type": "display_data"
    }
   ],
   "source": [
    "# Those two graphs looked similar. Let's plot them together\n",
    "subplot(2,1,1)\n",
    "pd.rolling_corr(aapl_rets, msft_rets, 250).plot()\n",
    "title('Rolling correlations')\n",
    "subplot(2,1,2)\n",
    "model.beta['MSFT'].plot()\n",
    "title('Least squaresn model')\n",
    "\n"
   ]
  },
  {
   "cell_type": "markdown",
   "metadata": {},
   "source": [
    "### more stocks\n",
    "There is all kinds of neat info on the web. Here is the SPY exchange-traded fund, which tracks the S&P 500 index."
   ]
  },
  {
   "cell_type": "code",
   "execution_count": 27,
   "metadata": {
    "collapsed": false
   },
   "outputs": [
    {
     "data": {
      "text/plain": [
       "Date\n",
       "2010-01-04    1003.23436\n",
       "2010-01-05    1005.89001\n",
       "2010-01-06    1006.59822\n",
       "2010-01-07    1010.84736\n",
       "2010-01-08    1014.21122\n",
       "2010-01-11    1015.62763\n",
       "2010-01-12    1006.15564\n",
       "2010-01-13    1014.65387\n",
       "2010-01-14    1017.39807\n",
       "2010-01-15    1005.97856\n",
       "2010-01-19    1018.54885\n",
       "2010-01-20    1008.19164\n",
       "2010-01-21     988.80502\n",
       "2010-01-22     966.76274\n",
       "2010-01-25     971.72002\n",
       "2010-01-26     967.64796\n",
       "2010-01-27     972.25121\n",
       "2010-01-28     961.09725\n",
       "2010-01-29     950.65151\n",
       "2010-02-01     965.43488\n",
       "2010-02-02     977.11995\n",
       "2010-02-03     972.25121\n",
       "2010-02-04     942.24182\n",
       "2010-02-05     944.18934\n",
       "2010-02-08     937.37301\n",
       "2010-02-09     949.14663\n",
       "2010-02-10     947.28764\n",
       "2010-02-11     957.20221\n",
       "2010-02-12     956.40553\n",
       "2010-02-16     971.45446\n",
       "                 ...    \n",
       "2016-01-15    1878.09998\n",
       "2016-01-19    1880.59998\n",
       "2016-01-20    1856.49994\n",
       "2016-01-21    1866.90002\n",
       "2016-01-22    1905.20004\n",
       "2016-01-25    1876.39999\n",
       "2016-01-26    1901.99997\n",
       "2016-01-27    1881.30005\n",
       "2016-01-28    1891.10001\n",
       "2016-01-29    1937.20001\n",
       "2016-02-01    1936.49994\n",
       "2016-02-02    1901.60004\n",
       "2016-02-03    1913.00003\n",
       "2016-02-04    1916.00006\n",
       "2016-02-05    1879.49997\n",
       "2016-02-08    1854.19998\n",
       "2016-02-09    1854.29993\n",
       "2016-02-10    1852.70004\n",
       "2016-02-11    1828.60001\n",
       "2016-02-12    1866.30005\n",
       "2016-02-16    1897.79999\n",
       "2016-02-17    1928.80005\n",
       "2016-02-18    1920.89996\n",
       "2016-02-19    1920.00000\n",
       "2016-02-22    1947.79999\n",
       "2016-02-23    1923.20007\n",
       "2016-02-24    1931.99997\n",
       "2016-02-25    1955.39993\n",
       "2016-02-26    1950.89996\n",
       "2016-02-29    1933.50006\n",
       "Name: Adj Close, dtype: float64"
      ]
     },
     "execution_count": 27,
     "metadata": {},
     "output_type": "execute_result"
    }
   ],
   "source": [
    "px = web.get_data_yahoo('SPY')['Adj Close']*10\n",
    "px"
   ]
  },
  {
   "cell_type": "code",
   "execution_count": 28,
   "metadata": {
    "collapsed": false
   },
   "outputs": [
    {
     "data": {
      "text/plain": [
       "[<matplotlib.lines.Line2D at 0x10d327b90>]"
      ]
     },
     "execution_count": 28,
     "metadata": {},
     "output_type": "execute_result"
    },
    {
     "data": {
      "image/png": "[encoded data removed]",
      "text/plain": [
       "<matplotlib.figure.Figure at 0x114cac590>"
      ]
     },
     "metadata": {},
     "output_type": "display_data"
    }
   ],
   "source": [
    "plot(px)"
   ]
  },
  {
   "cell_type": "markdown",
   "metadata": {},
   "source": [
    "## Asymptotic methods for period of a pendulum, period of Mercury"
   ]
  }
 ],
 "metadata": {
  "kernelspec": {
   "display_name": "Python 2",
   "language": "python",
   "name": "python2"
  },
  "language_info": {
   "codemirror_mode": {
    "name": "ipython",
    "version": 2
   },
   "file_extension": ".py",
   "mimetype": "text/x-python",
   "name": "python",
   "nbconvert_exporter": "python",
   "pygments_lexer": "ipython2",
   "version": "2.7.10"
  }
 },
 "nbformat": 4,
 "nbformat_minor": 0
}
