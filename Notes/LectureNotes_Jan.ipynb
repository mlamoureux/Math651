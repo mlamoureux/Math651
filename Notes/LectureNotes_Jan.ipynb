{
 "cells": [
  {
   "cell_type": "markdown",
   "metadata": {},
   "source": [
    "# Math 651 - University of Calgary\n",
    "# Mathematical Modeling for Industry\n",
    "# Winter 2016\n",
    "\n"
   ]
  },
  {
   "cell_type": "markdown",
   "metadata": {},
   "source": [
    "# Lecture 1 - Monday, January 11"
   ]
  },
  {
   "cell_type": "markdown",
   "metadata": {},
   "source": [
    "### Suggested texts for the course\n",
    "\n",
    "- Practical Applied Mathematics, Sam Howison \n",
    "- ( https://people.maths.ox.ac.uk/fowler/courses/tech/sdh.pdf )\n",
    "- Mathematical Models in the Applied Sciences, A.C. Fowler\n",
    "- Python for Data Analysis, Wes McKinney\n",
    "\n",
    "All available in paperback from Amazon.\n",
    "\n",
    "### Software that we will use\n",
    "\n",
    "- Jupyter, a notebook system to combine text, formulas, and computations\n",
    "- try.jupyter.org\n",
    "- Python, including NumPy, SciPy, Panda, for numerical work and data processing\n",
    "- Julia, an up-coming numerical package as a replacement for MATLAB\n",
    "- MATLAB\n",
    "- R\n",
    "\n",
    "### Lecture Schedule\n",
    "We will meet Monday Tuesday and Wednesday, from 5pm to 7:30 pm, roughly one week out of four. The weeks we meet are\n",
    "\n",
    "- Jan 11\n",
    "- Feb 1\n",
    "- Feb 29\n",
    "- March 21\n",
    "- April 11\n",
    "\n",
    "### Grading\n",
    "Directed towards completing a final project\n",
    "- Project Proposal: 20% \n",
    "- Team work & collaboration: 15% \n",
    "- Oral Presentation: 15% \n",
    "- Final Project: 50%\n",
    "\n"
   ]
  },
  {
   "cell_type": "markdown",
   "metadata": {},
   "source": [
    "# Lecture 2 - Tuesday, January 12"
   ]
  },
  {
   "cell_type": "markdown",
   "metadata": {},
   "source": [
    "## A brief recap on Fourier transform.\n",
    "See notes on our Guthub repo for more details on the Fourier transform.\n",
    "\n",
    "Some key points to note:\n",
    "- Fourier transform is a linear map\n",
    "- it transforms a function $f$ on one space, into another function $\\hat{f}$ on another space\n",
    "- the space come in pairs, such as \n",
    "- the interval $[0,1]$ and the integers $\\mathbb Z$\n",
    "- you can also start with the set $\\mathbb Z$, and its matching pair is again the interva $[0,1]$\n",
    "- the real line $\\mathbb R$ and a second copy of it, $\\mathbb R$ (You should think of the first copy as the real line representing time, the second copy as the real line of frequencies. So these are two \"different\" spaces, even though they look the same.)\n",
    "- the finite set ${\\mathbb Z}/N = \\{ 0,1,2,3,\\ldots, N-1\\}$ and a second copy ${\\mathbb Z}/N$\n",
    "- products of the sets, like ${\\mathbb R}^3$ paired with ${\\mathbb R}^3$\n",
    "- all these sets are actually groups under the obvious operation of addtion $+$. This addition is computed modulo 1 in the case of $[0,1]$, or modulo $N$ in the case of ${\\mathbb Z}/N$, making those sets into actual groups. \n",
    "- the Fourier transform is defined on any locally compact abelian group"
   ]
  },
  {
   "cell_type": "markdown",
   "metadata": {},
   "source": [
    "The idea behind the transform is to express functions as a linear combination of sines and cosines. The transform is particularly elegant if we express the sines and cosines as a complex exponential in the form $$ e^{ix} = \\cos(x) + i\\cdot\\sin(x).$$ This also allows us to easily transform complex-valued functions.\n",
    "\n",
    "The transforms on all spaces take very similar forms, as sums or integrals of the original function, multiplied by a complex exponential involving two variables (one from each space of those pairs above). \n",
    "- for $f:[0,1]\\rightarrow \\mathbb C$, the transformed function becomes $\\hat{f}:\\mathbb Z\\rightarrow \\mathbb C$ given by the formula\n",
    "$$ \\hat{f}(n) = \\int_0^1 f(t) e^{-2\\pi i nt} \\, dt, \\mbox{ for each integer $n$}.$$\n",
    "- for $f:\\mathbb R \\rightarrow \\mathbb C$, the transformed function becomes $\\hat{f}:\\mathbb R\\rightarrow \\mathbb C$, given by a very similar formula\n",
    "$$ \\hat{f}(\\omega) = \\int_{-\\infty}^\\infty f(t) e^{-2\\pi i \\omega t} \\, dt, \\mbox{ for each real number $\\omega$}.$$\n",
    "- for $f:{\\mathbb Z}/N \\rightarrow \\mathbb C$, the transformed function becomes $\\hat{f}:{\\mathbb Z}/N\\rightarrow \\mathbb C$, given by a sum, rather than an integral\n",
    "$$ \\hat{f}(m) = \\frac{1}{\\sqrt{N}}\\sum_{n=0}^{N-1} f(m) e^{-2\\pi i  mn/N} \\, dt, \\mbox{ for each integer  $n$}.$$ This square root in the front ensures the transform perserves vector norms. (Note that MATLAB uses a different constant there!)\n",
    "- for $f:{\\mathbb Z} \\rightarrow \\mathbb C$, the transformed function becomes $\\hat{f}:[0,1] \\rightarrow\\mathbb C$, which is also given by a sum:\n",
    "$$ \\hat{f}(t) = \\sum_{n=-\\infty}^\\infty f(m) e^{-2\\pi i  nt} \\, dt, \\mbox{ for each real number  $t$}.$$ \n",
    "\n",
    "All these transforms are well-defined on integrable functions (or summable sequences, as the case may be) and extend by continuity to all square-integrable functions (or square summable sequences). \n",
    "\n",
    "For higher dimensions, the formulas are completely analogous. For instance, in three dimensions (or higher), the transform on ${\\mathbb R}^3$ is given by\n",
    "$$\\hat{f}({\\mathbf k}) = \\int_{-\\infty}^\\infty \\int_{-\\infty}^\\infty \\int_{-\\infty}^\\infty\n",
    "f({\\mathbf x}) e^{-2\\pi i {\\mathbf x\\cdot \\mathbf k}} \\, dx_1 \\, dx_2, \\, dx_3, $$\n",
    "where ${\\mathbf x} = (x_1, x_2, x_3)$ is a 3-vector, as is $\\mathbf k$ and the notation ${\\mathbf x\\cdot \\mathbf k}$ is just the usual dot product of vectors. \n",
    "\n",
    "This should suggest to you that the Fourier transform is a very general construction. It applies to all locally compact abelian groups (whatever those are). These groups have an invariant measure, called the Haar measure, which allows us to define those integrals. They each have a dual group, which is the collection of group homomorphisms into the unit circle on te complex plane (these are called characters). The transform is just given by integrating the function $f$ with a fixed character $\\omega$ in the dual group, to get the value of $\\hat{f}(\\omega)$."
   ]
  },
  {
   "cell_type": "markdown",
   "metadata": {},
   "source": [
    "## Properties of the Fourier transform\n",
    "\n",
    "- The Fourier transform is almost its own inverse. In fact, we have that $$\\widehat{\\hat{f}}(t) = f(-t), \\mbox{for all $t$ in the space,}$$\n",
    "which says that applying the Fourier transform twice gives you back the original function, but with a minus sign in the argument. This also means you can recover the original function from its Fourier transform. For instance, on the real line, we have\n",
    "$$f(t) = \\int_{-\\infty}^\\infty \\hat{f}(\\omega) e^{2\\pi i \\omega t} \\, dt. $$\n",
    "This is just like the original Fourier transform, except there is no minus sign in the exponential. (This is true in general on all those spaces above.)\n",
    "- The Fourier transform preserves the energy, or 2-norm of a function. We usually write this as $$\\| \\hat{f} \\|_2 = \\| f \\|_2,$$\n",
    "where the 2-norm is defined on a function $f$ as\n",
    "$$ \\| f \\|_2 = \\sqrt{ \\int_X |f(x)|^2 \\, dx }.$$\n",
    "Here, the integral is over whatever space the function is defined on, and $dx$ is the Haar measure for the group (usually Lebesque measure in our examples above). In the case of a discrete set, the integral is replaced with a sum.\n",
    "- if the function $f$ is real-valued, or even, or odd, then its transform will have some nice symmetry properties. You might like to figure these out. For instance, if $f$ is real-valued, then $\\hat{f}$ satisfies \n",
    "$$\\hat{f}(-\\omega) = \\overline{\\hat{f}(\\omega)}.$$\n",
    "That is, putting a negative in the argument is the same as taking a complex conjugate. In this case, we know that absolute value of the Fourier transform is an even function, so\n",
    "$$ | \\hat{f}(-\\omega) | = | \\hat{f}(\\omega) |,$$\n",
    "which tells us to expect mirror-image symmetry in the FT of a real function. (We saw this in MATLAB examples.)\n",
    "- The Fourier transform changes a product of functions into a convolution, and a convolution into a product. This is written succinctly as the two formulas\n",
    "$$ \\widehat{f\\cdot g} = f*g \\mbox{ and } \\widehat{f* g} = f\\cdot g. $$\n",
    "- Just a reminder that the convolution of two functions on the real line is given by the formula\n",
    "$$(f*g)(t) = \\int_{-\\infty}^\\infty f(t-s)g(s) \\, ds$$\n",
    "while the convolution of two functions on the integers is given by\n",
    "$$(f*g)(n) = \\sum_{m= -\\infty}^\\infty f(n-m)g(m).$$\n",
    "Convolution is the natural operation that arises when you multiply coefficients on polynomials in one variable (and also the natural operation when you turn a group into a group algebra.) \n",
    "- convolution with a sequence that has only a few non-zero elements is a natural way to introduce linear, time-invariant filter in signal processing and time series analysis. The properties of the filter can be deduced by looking at the Fourier transform of the sequence. This FT show how the filter behaves in the frequency domain. \n",
    "- two-dimensional convolution is used to filter images, as in Photoshop. Designing good filters is an interesting and challenging problem. \n"
   ]
  },
  {
   "cell_type": "markdown",
   "metadata": {},
   "source": [
    "### Examples\n",
    "We did some demos in MATLAB to look at some Fourier transforms of various data sequences. We should try to figure out how to do it in Julia, on Jupyter. "
   ]
  },
  {
   "cell_type": "markdown",
   "metadata": {},
   "source": [
    "## Time-frequency transforms\n",
    "A problem with the Fourier transform is that it does not easily tell you how a signal evolves over time. A frequency sweep going up or down, looks pretty much the same when you plot the absolute value of its Fourier transform. (There is information in the phase of the FT, but it is not obvious how to \"see\" it.)\n",
    "\n",
    "We can instead use time-frequency transforms. Some common ones are\n",
    "- Short Time Fourier Transform\n",
    "- Gabor transform\n",
    "- Stockwell, or S-transform\n",
    "- wavelet transform (continuous or discrete) \n",
    "- Basis pursuit decomposition\n",
    "- and many others\n",
    "\n",
    "We showed a powerpoint presentation (PPT) on an introduction to seismic imaging, which gave lots of examples of time-frequency displays.\n",
    "\n",
    "### Examples\n",
    "We will try to figure out how to do a time-frequency display in Julia, or in Python, as a nice exercise in using this new system. "
   ]
  },
  {
   "cell_type": "markdown",
   "metadata": {},
   "source": [
    "## Mathematical modeling\n",
    "Math modeling is a bit of an art. We want to create a representation of some process that is quantitative, and allows us to do some calculations that produce insight into process. Ideally, the model should be validated by comparing its results with observations of the real process, and indeed we would like to use the model to make predictions about the process that we have not yet observed (but would like to). \n",
    "\n",
    "I would suggest this is a good place to read up on the process of mathematical modeling. Different authors have difference ideas on how this is done, and you might find something out there that really resonates with you.\n",
    "\n",
    "Here is how A.C. Fowler breaks it down, in his book \"Mathematical Model in the Applied Sciences.\"\n",
    "\n",
    "### The procedure of modeling\n",
    "- 1.Problem identification\n",
    "\n",
    "Identify a problem. Something we don't understand, a phenomena that needs an explanation. Try to identify a mechanism that explains the phenomena. \n",
    "\n",
    "- 2.Model formulation\n",
    "\n",
    "Once identified, the mechanism should be formulated mathematically. Identify variable, and their dependences, and formulate as systems of equations (with boundary conditions, as well as evolution equations). Often we rely on physical laws (e.g. conservation of mass, of energy), empirical laws (e.g. friction), or hypothesized laws (e.g. rates of predation depends on the product of the number of predators time the number of prey). Simpler models are often more useful than complex models for understanding key phenomena -- more complex models can be created as needed. (We should think about well-posedness of the problem as we develop the model.)\n",
    "\n",
    "- 3.Reduction\n",
    "\n",
    "To get to a solution, it is sometimes important to remove unnecessary terms in the model. One way to approach this is to non-dimensionalize the problem, in order to discover which terms are unusually large or unusually small (relative to other terms). This leads to asymptotic methods that we hear so much about.\n",
    "\n",
    "- 4.Analysis\n",
    "\n",
    "Analytic dissection is the process of breaking up a complicated model into various simpler components -- for instance, components that work at different time scales, or length scales. (For instance, in modeling ocean waves, you might distinguish between long, slow waves that travel large distances, and the smaller wavelets generated by gusts of wind.) Each individual component may represent a problem to be solved on its own, and then all the pieces brought together for a final model. In many cases, exact analytic solutions can be obtained for the component pieces, \n",
    "\n",
    "- 5.Computation\n",
    "\n",
    "Numerical computation can be used to solve the original problem, the component pieces, or to link together the results of the analysis of the component pieces. All are options, and all have their use in various modeling.\n",
    "\n",
    "- 6.Model validation\n",
    "\n",
    "The mathematical model must go back to the original problem, to see if the model and analysis explains the phenomena being studies. Do the computed data match the experimental data? Does predicted stability (or regions of stability) in the model match the observed stabiity of the process. Fowler make the point that the justification of the model is often that the various choices we made in developing the model are seen to work. "
   ]
  },
  {
   "cell_type": "markdown",
   "metadata": {},
   "source": [
    "## A sample model\n",
    "Fowler suggests a model to explain how traffic jams form. Specifically, we observe sometimes that traffic on a road slows to a crawl, with many cars packed together. It creeps along from a while, then the road clears and we rapidly go back to travelling at the speed limit. This is a weird phenomena -- there was nothing on the road to block the traffic, it just seemed to cluster up and slow down. \n",
    "\n",
    "For a simplified model, we do a continuous approximation. Imagine a straight length of road, with cars distributed on along the road. We define a function $\\rho = \\rho(x,t)$ to be the density of cars (say number of cars per meter of roadway -- this could be a fractional number), which varies with both position $x$ along the road, and time $t$. We assume all the cars at some point are moving with roughly the same velocity, which we denote by $v = v(x,t)$, a function that varies with both position and time. The flux $q=q(x,t)$ is the number of cars per second that pass through the point $x$ on the roadway, which can vary with the time $t$. Of course we have that flux is just the density times velocity, so\n",
    "$$q = v\\rho.$$\n",
    "\n",
    "Conservation of mass tells us that the total number of cars in an interval $[x_1, x_2]$ can only increase (or decrease) because of the flux of cars entering at point $x_1$ and exiting at point $x_2$. So the rate of change of the number of cars is equal to the difference of those fluxes. In integral form, this says:\n",
    "$$\\frac{\\partial}{\\partial t} \\int_{x_1}^{x_2} \\rho(x,t) \\, dx = q(x_1) - q(x_2) \n",
    "= -\\int_{x_1}^{x_2} \\frac{\\partial}{\\partial x} q(x,t) \\, dx.$$\n",
    "Bringing the derivatives inside, on any interval $[x_1,x_2]$ we have\n",
    "$$\\int_{x_1}^{x_2} \\frac{\\partial}{\\partial t}\\rho(x,t) + \n",
    "\\frac{\\partial}{\\partial x} q(x,t) \\, dx = 0,$$\n",
    "from which we conclude the integrand is zero. That we have the PDE\n",
    "$$ \\rho_t + q_x = 0.$$"
   ]
  },
  {
   "cell_type": "markdown",
   "metadata": {},
   "source": [
    "As it stands, we can't solve this equation because we don't have enough information. In partcular, we don't know what the velocity is. \n",
    "\n",
    "If $v$ were constant, this is easy enough to solve with a traveling wave solution,\n",
    "$$\\rho(x,t) = f(x-vt)$$\n",
    "where $f(x) = \\rho(x,0)$ is some initial distribution of cars along the roadway.\n",
    "\n",
    "If $v = v(x)$ is a function only of position (and not of time), an exact solution is also possible. (You should try it). This would correspond to a roadway with posted speed limits that are different at different spots on the road, and everyone follows the limit. You should look at that solution, and observe that it is something like a traveling wave again.\n",
    "\n",
    "These two models don't explain the traffic jam, though. "
   ]
  },
  {
   "cell_type": "markdown",
   "metadata": {},
   "source": [
    "Suppose, though, that the velocity depends on the density. This is a hypothesized law, suggesting that car drivers will tend to go faster if there is a lot of space on the road, and will slow down if the density increases. \n",
    "\n",
    "A simple model for this would be something like\n",
    "$$ v = 1-\\rho, \\mbox{ where we assume density is between 0 and 1.}$$\n",
    "In this case, the flux is $q = \\rho(1-\\rho)$ and so the local wave speed is \n",
    "$$\\frac{dq}{d\\rho} = 1 - 2\\rho,$$\n",
    "which is positive or negative depending on whether the density is below or above $1/2$. \n",
    "\n",
    "The differential equation becomes\n",
    "$$\\rho_t + (1-2\\rho)\\rho_x = 0,$$\n",
    "which is non-linear, but simple enough that we can solve it numerically. (Maybe even analytically). What we do observe is that if at some point $x$ on the road, if $\\rho > 1/2, \\rho_x >0$, then the density will be increasing with time. While if $\\rho < 1/2, \\rho_x >0$, the density will be decreasing with time. This will tend to form a \"shock wave\" in the density of cars. That is, if there is a point on the road where the density passes from below 1/2 to above 1/2, the density before that point decreases, while the density after that point increases. This continues until you get the sharp shock wave. You car sees this as a transition into a very dense, slow moving region of cars, following by the clearing out of the road as you move into the rarified region after the shock. \n",
    "\n",
    "It's kind of a pain to insert a diagram in Jupyter. Maybe you (the student) can come up will a better way to plug in an image. But here is one from Fowler's book. "
   ]
  },
  {
   "cell_type": "markdown",
   "metadata": {},
   "source": [
    "![Image from Fowler text](Fowler_fig1_1_cropped.jpg)"
   ]
  },
  {
   "cell_type": "markdown",
   "metadata": {},
   "source": [
    "# Mathematical Models for this course\n",
    "This course is based around developing models of industrial processes, and using what mathematics you can to quantify those models and analyze them mathematically. \n",
    "\n",
    "We have run many workshops where industrial reseachers come in to present mathematical problems based on real industry processes. Things like seismic imaging, heat flow in ceramic dies being blasted in a furnace, monitoring the temperatures in the walls of a blast furnace, etc. Here is a list of workshop from PIMS and the IMA, which list several projects at each workshop:\n",
    "\n",
    "http://www.ima.umn.edu/math_modeling/#Past\n",
    "\n",
    "For instance, here is a list of project from a 2015 workshop:\n",
    "\n",
    "http://www.ima.umn.edu/2014-2015/MM8.5-14.15/#Projects\n",
    "\n",
    "Written out in detail:\n",
    "- Team 1: Approximate Mapping of Temperatures from Coarser to Finer Grid using Temporal Derivatives\n",
    "- Team 2: Is this a compressed sensing application?\n",
    "- Team 3: Simulation-driven Design in the Development of High-performance Tools\n",
    "- Team 4: Fast and Somewhat Accurate Algorithms\n",
    "- Team 5: Deep Learning for Image Anomaly Detection\n",
    "- Team 6: Deducing Rock Properties from Spectral Seismic Data\n",
    "- Team 7: Sparse Recovery Using Quantum Annealing\n",
    "\n",
    "We showed in class some sample final reports, and final PowerPoint presentations that were the results of these problem solving workshops. These are good models for what the students' final projects should look like for this course. "
   ]
  },
  {
   "cell_type": "markdown",
   "metadata": {},
   "source": [
    "## TO DO for next lecture (students)\n",
    "- think about who you want to work with as a team. (teams of 2 to 4 people)\n",
    "- start thinking about what your project will be\n",
    "- get an account on GitHub, so we can start to share files and code\n",
    "- get an account on http://jupyter.pims.math.ca/  so we can try Jupyter, Julia and Python\n",
    "\n",
    "## TO DO for February 1 (students)\n",
    "- deliver a 1 to 2 page project proposal with your team mates\n",
    "- consult with me by email, Skype before hand to be sure you are on the right track\n",
    "- start researching where you will get your data, where you might find interesting models, and what code (software) you might need to work on the problem\n",
    "- practice sharing notes and code through GitHub\n"
   ]
  },
  {
   "cell_type": "markdown",
   "metadata": {},
   "source": [
    "# Lecture 3 - Wednesday, January 13"
   ]
  },
  {
   "cell_type": "markdown",
   "metadata": {
    "collapsed": true
   },
   "source": [
    "We spent most of the lecture playing around with Jupyter and Github. It is pretty clear the students were having difficulty with installing various programs on their laptops, and that the PIMS Jupyter server could not handle a dozen people running programs at the same time.\n",
    "\n",
    "Since then, Michael has worked with Ian Allison at PIMS to give a more robust service for hte Juptyer server. The students will test this out, see how it works.\n",
    "\n"
   ]
  },
  {
   "cell_type": "markdown",
   "metadata": {},
   "source": [
    "## Between lectures.   Weeks of January 18, January 25\n",
    "\n",
    "Michael has been reading a book called \"Python for Scientists\" by John M. Stewart. He has posted some Python code on the Github repository for the course. Students should try it out:\n",
    "- fib.py  computes the fibonacci sequence\n",
    "- gcd.py  computes the greatest common divisor, and also tests it usig Fibonacci numbers (which are know to require a relatively long compute time for the gcd of adjacent fib numbers)\n",
    "- mandel.py computes the Mandelbrot set\n",
    "- wiener.py computes a random walk / Brownian motion / Wiener process\n",
    "- testito.py  tests a result in the Ito calculus, computing 5000 random walks and various transformations\n",
    "\n",
    "BEST ADVICE from this book:\n",
    "- go to the site Enthought.com and download their Python package, called \"Canopy\"\n",
    "\n",
    "You can get an academic license for free (use your @ucalgary.ca email address), and get the complete package. Michael has tested it on both Mac OSX and Windows 8.1, it works really well, has all the packages you are likely to need. Runs like Matlab, with an editor window, a command window, figures that pop up, etc. It uses Python 2.7 which is compatible with all the numpy and scipy toolboxes. \n",
    "\n",
    "Still looking for comments from students on how to install GIT on Windows. "
   ]
  },
  {
   "cell_type": "code",
   "execution_count": null,
   "metadata": {
    "collapsed": true
   },
   "outputs": [],
   "source": []
  }
 ],
 "metadata": {
  "kernelspec": {
   "display_name": "Julia 0.4.2",
   "language": "julia",
   "name": "julia-0.4"
  },
  "language_info": {
   "file_extension": ".jl",
   "mimetype": "application/julia",
   "name": "julia",
   "version": "0.4.2"
  }
 },
 "nbformat": 4,
 "nbformat_minor": 0
}
