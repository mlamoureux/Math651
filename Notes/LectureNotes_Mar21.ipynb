{
 "cells": [
  {
   "cell_type": "markdown",
   "metadata": {
    "collapsed": true
   },
   "source": [
    "# Math 651 - University of Calgary\n",
    "# Mathematical Modeling for Industry\n",
    "# Winter 2016\n",
    "\n"
   ]
  },
  {
   "cell_type": "markdown",
   "metadata": {},
   "source": [
    "# Lecture 10 - Monday, March 21"
   ]
  },
  {
   "cell_type": "markdown",
   "metadata": {},
   "source": [
    "## Outline for today\n",
    "\n",
    "- Git on Windows\n",
    "- Git on Jupyter server\n",
    "- github, in and out\n",
    "- python \"gotcha's\"\n",
    "- project 1: 3 body problem. (Sun, earth, moon. Or Sun, Earth, Jupiter) \n",
    "- project 2: animations or movies in Python\n",
    "\n"
   ]
  },
  {
   "cell_type": "markdown",
   "metadata": {},
   "source": [
    "## Git on Windows\n",
    " \n",
    "Really, you want to ask me about doing anything on Windows? That's crazy!!!\n",
    "\n",
    "But just to level the playing field, I brought in a Windows computer and we can see how it is done. \n",
    "\n",
    "You can start on Github (while on your Windows machine, in a browser), ask to clone a repository, and the computer will ask if you want to download \"Github for Windows.\" Do it. This gives you all the stuff you need.\n",
    "\n",
    "You might also just install Git directly, by going to: http://get-scm.com/download/win\n",
    "\n",
    "When it installs, it will ask you a whole lot of questions about options. Pay attention, and choose the appropriate ones that work for you. (Not all the default choices are best.)\n",
    "\n",
    "To use git, the way I set it up, I have to run things in a Windows Powersheet. I don't even know what that is, but it looks a lot like a terminal. To clone a repository off of github, do something like this:\n",
    "- git clone https://github.com/mlamoureux/Math651.git\n",
    "\n"
   ]
  },
  {
   "cell_type": "markdown",
   "metadata": {},
   "source": [
    "## Git on the PIMS jupyter server\n",
    "\n",
    "Go to jupyter.pims.math.ca to get to your remote PIMS server that can do Python, Julia, R for you in a nice browser. \n",
    "\n",
    "By opening a terminal window (use the \"New\" command button on the screen of Jupyter), you can access git directly. Cool. Type this:\n",
    "- git clone https://github.com/patrickwalls/math210.git\n",
    "\n",
    "to get a directory on your server with a bunch of nice lecture notes etc to explore.\n",
    "\n",
    "Or, to get our class notes, do this:\n",
    "- git clone https://github.com/mlamoureux/Math651.git\n",
    "\n",
    "\n"
   ]
  },
  {
   "cell_type": "markdown",
   "metadata": {},
   "source": [
    "\n",
    "## Using Github\n",
    "\n",
    "Some comments from having listened to the inventor, understanding his conception of how Git is useful. \n",
    "\n",
    "Linus Torvalds, the inventor of Linux, is also the author of Git. Which is a program that tracks changes to files on your computer. Think of it as taking a snapshot of your project and all its files, and saves these snapshots so you can always go back to them.\n",
    "\n",
    "Torvalds says he really likes \"command lines\" for telling the computer exactly what to do. So that's why GIT always seems to work best from a terminal. (I like graphical user interfaces, probably because I don't like typing. Oh well.)\n",
    "\n",
    "He also says he doesn't like working with people very much. So he created GIT so that he could manage his interactions with the many people working on contributing to the code in Linux. \n",
    "\n",
    "GIT is different than GITHUB. Git is a program, that let's you manage files as they get revised and editted. This can include a folder of files on your laptop, that has nothing to do with anyone else out on the web. You ask GIT to track certain files, and when you have made changes that you are happy with, you \"commit\" these files to be saved via GIT. There is some big database that tracks everything for you.\n",
    "\n",
    "GITHUB is a server that holds a bunch of projects -- or repositories as they are called. This is a way for people to see each other's code, and to share in the development of that code. \n",
    "\n",
    "You often will \"clone\" a whole project off of GITHUB, then use it on your laptop's personal files. You can update your project by pulling any new changes off GITHUB. And if you make changes on your local files, if you want to share them, you can push them back up to the GITHUB repository (which is out on the web). \n",
    "\n",
    "So, it is a good idea to start your work by learning how to use GIT just on your laptop. Learn how to track files, stage them, commit them. Remove them, rename them, etc etc. All using the command line interface (yawn). \n",
    "\n",
    "Here is a good place to start reading about Git.  https://git-scm.com/book/en/v2/Getting-Started-Git-Basics\n",
    "\n",
    "Then you should start using github itself to post and share your code publically. \n",
    "\n"
   ]
  },
  {
   "cell_type": "markdown",
   "metadata": {},
   "source": [
    "## Github example.\n",
    "\n",
    "Here is how I created a new repository on Github for us to use today.\n",
    "\n",
    "First I made a new directory on my laptop, and put in all the files I wanted for it. \n",
    "\n",
    "Then I went to a terminal window, and cd'd to that directory.\n",
    "\n",
    "Then I entered these commands\n",
    "- git init\n",
    "- git add *\n",
    "- git commit -m \"First commit with all files\"\n",
    "- git remote add origin https://github.com/mlamoureux/Math651.git\n",
    "- git -u origin master\n",
    "\n",
    "That's it.\n",
    "\n",
    "If someone changes the repository on Github, to get all the new stuff just enter this command:\n",
    "- git pull\n",
    "\n",
    "If you change your local files, and want to pass up to the repository, do this\n",
    "- git add *\n",
    "- git commit -m \"Hey I made these changes\"\n",
    "- git push origin master\n",
    "\n"
   ]
  },
  {
   "cell_type": "code",
   "execution_count": null,
   "metadata": {
    "collapsed": true
   },
   "outputs": [],
   "source": []
  }
 ],
 "metadata": {
  "kernelspec": {
   "display_name": "Python 2",
   "language": "python",
   "name": "python2"
  },
  "language_info": {
   "codemirror_mode": {
    "name": "ipython",
    "version": 2
   },
   "file_extension": ".py",
   "mimetype": "text/x-python",
   "name": "python",
   "nbconvert_exporter": "python",
   "pygments_lexer": "ipython2",
   "version": "2.7.10"
  }
 },
 "nbformat": 4,
 "nbformat_minor": 0
}
