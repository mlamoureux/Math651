{
 "cells": [
  {
   "cell_type": "markdown",
   "metadata": {},
   "source": [
    "## Matlab on Jupyter\n",
    "\n",
    "How to connect your legal copy of Matlab into the Jupyter notebook"
   ]
  },
  {
   "cell_type": "markdown",
   "metadata": {},
   "source": [
    "The goal is to get MATLAB code running inside a Jupyter notebook.\n",
    "\n",
    "I'm following the instructions from this webpage: http://anneurai.net/2015/11/12/matlab-based-ipython-notebooks/\n",
    "\n",
    "The instructions are basically this. (This is for a Mac. Windows should be similar.)\n",
    "```\n",
    "\n",
    "    1. Download and install Anaconda https://www.continuum.io/downloads\n",
    "\n",
    "    2. In terminal, type\n",
    "        pip install pymatbridge\n",
    "        pip install matlab_kernel\n",
    "        python -m matlab_kernel.install\n",
    "\n",
    "    3. Point the kernel to your version of Matlab. I added\n",
    "    export MATLAB_EXECUTABLE=/Applications/MATLAB_R2015b.app/bin/matlab to my .bash_profile file. (For Michael's computer, had to use .../MATLAB_R2015a_mine.app/... because he changed the name of his matlab application .) \n",
    "\n",
    "    4. Restart terminal or load .bash_profile. Type ipython notebook in Terminal. Your browser will open a Jupyter window, where on the right hand side you can go to New -> Notebooks -> Matlab.\n",
    "    \n",
    "    5. You’re now ready to run your notebook! Simply write or copy a block of code from matlab, and click Run. The figures will automatically appear when you are calling any plotting function. When you push your Notebook.ipynb file to GitHub, it will automatically render the layout and figures.\n",
    "```"
   ]
  },
  {
   "cell_type": "markdown",
   "metadata": {},
   "source": [
    "Just to show this all works, we switch to the Matlab kernel and we can do the following:"
   ]
  },
  {
   "cell_type": "code",
   "execution_count": 1,
   "metadata": {
    "collapsed": false
   },
   "outputs": [
    {
     "name": "stdout",
     "output_type": "stream",
     "text": [
      "ans =\n",
      "\n",
      "     4\n"
     ]
    }
   ],
   "source": [
    "2+2\n"
   ]
  },
  {
   "cell_type": "code",
   "execution_count": 2,
   "metadata": {
    "collapsed": false
   },
   "outputs": [
    {
     "name": "stdout",
     "output_type": "stream",
     "text": [
      "ans =\n",
      "\n",
      "   -0.6667   -1.3333    1.0000\n",
      "   -0.6667    3.6667   -2.0000\n",
      "    1.0000   -2.0000    1.0000\n"
     ]
    }
   ],
   "source": [
    "inv([1 2 3; 4 5 6 ; 7 8 10])"
   ]
  },
  {
   "cell_type": "code",
   "execution_count": 3,
   "metadata": {
    "collapsed": false
   },
   "outputs": [
    {
     "data": {
      "image/png": "[encoded data removed]",
      "text/plain": [
       "<IPython.core.display.Image object>"
      ]
     },
     "metadata": {},
     "output_type": "display_data"
    }
   ],
   "source": [
    "x = linspace(0,1,1000);\n",
    "plot(x,x.^2)"
   ]
  },
  {
   "cell_type": "code",
   "execution_count": null,
   "metadata": {
    "collapsed": true
   },
   "outputs": [],
   "source": []
  }
 ],
 "metadata": {
  "kernelspec": {
   "display_name": "Matlab",
   "language": "matlab",
   "name": "matlab"
  },
  "language_info": {
   "codemirror_mode": "octave",
   "file_extension": ".m",
   "help_links": [
    {
     "text": "MetaKernel Magics",
     "url": "https://github.com/calysto/metakernel/blob/master/metakernel/magics/README.md"
    }
   ],
   "mimetype": "text/x-matlab",
   "name": "matlab",
   "version": "0.8.0"
  }
 },
 "nbformat": 4,
 "nbformat_minor": 0
}
