{
 "cells": [
  {
   "cell_type": "code",
   "execution_count": 5,
   "metadata": {
    "collapsed": false
   },
   "outputs": [
    {
     "name": "stderr",
     "output_type": "stream",
     "text": [
      "  % Total    % Received % Xferd  Average Speed   Time    Time     Time  Current\n",
      "                                 Dload  Upload   Total   Spent    Left  Speed\n",
      " 98 11.3M   98 11.1M    0     0  3131k      0  0:00:03  0:00:03 --"
     ]
    },
    {
     "ename": "LoadError",
     "evalue": "LoadError: EOFError: read end of file\nwhile loading In[5], in expression starting on line 3",
     "output_type": "error",
     "traceback": [
      "LoadError: EOFError: read end of file\nwhile loading In[5], in expression starting on line 3",
      "",
      " in SegyToSeis at /Users/mikel/.julia/v0.4/Seismic/src/Utils/SegyToSeis.jl:37",
      " in SegyToSeis at /Users/mikel/.julia/v0.4/Seismic/src/Utils/SegyToSeis.jl:5"
     ]
    },
    {
     "name": "stderr",
     "output_type": "stream",
     "text": [
      ":--:-- 3131k\r",
      "100 11.3M  100 11.3M    0     0  3164k      0  0:00:03  0:00:03 --:--:-- 3163k\n"
     ]
    }
   ],
   "source": [
    "using PyPlot,Seismic;\n",
    "download(\"http://certmapper.cr.usgs.gov/nersl/NPRA/seismic/1979/616_79/PROCESSED/616_79_PR.SGY\",\"616_79_PR.SGY\");\n",
    "SegyToSeis(\"616_79_PR.SGY\",\"616_79_PR.seis\");\n",
    "d,h,e = SeisRead(\"616_79_PR.seis\");\n",
    "SeisPlot(d[1:500,:],e,cmap=\"PuOr\",wbox=9);"
   ]
  },
  {
   "cell_type": "code",
   "execution_count": 2,
   "metadata": {
    "collapsed": false
   },
   "outputs": [
    {
     "name": "stderr",
     "output_type": "stream",
     "text": [
      "INFO: Nothing to be done\n",
      "INFO: METADATA is out-of-date — you may not have the latest version of PyPlot\n",
      "INFO: Use `Pkg.update()` to get the latest versions of your packages\n"
     ]
    }
   ],
   "source": [
    "Pkg.add(\"PyPlot\")"
   ]
  },
  {
   "cell_type": "code",
   "execution_count": 3,
   "metadata": {
    "collapsed": false
   },
   "outputs": [
    {
     "name": "stderr",
     "output_type": "stream",
     "text": [
      "INFO: Cloning cache of Lexicon from git://github.com/MichaelHatherly/Lexicon.jl.git\n",
      "INFO: Cloning cache of Seismic from git://github.com/SeismicJulia/Seismic.jl.git\n",
      "INFO: Installing Lexicon v0.1.18\n",
      "INFO: Installing MacroTools v0.2.0\n",
      "INFO: Installing Requires v0.2.1\n",
      "INFO: Installing Seismic v0.1.0\n",
      "INFO: Building PyCall\n",
      "INFO: PyCall is using /Users/mikel/anaconda/bin/python (Python 2.7.11) at /Users/mikel/anaconda/bin/python, libpython = /Users/mikel/anaconda/lib/libpython2.7.dylib\n",
      "INFO: Package database updated\n",
      "INFO: METADATA is out-of-date — you may not have the latest version of Seismic\n",
      "INFO: Use `Pkg.update()` to get the latest versions of your packages\n"
     ]
    }
   ],
   "source": [
    "Pkg.add(\"Seismic\")"
   ]
  },
  {
   "cell_type": "code",
   "execution_count": null,
   "metadata": {
    "collapsed": true
   },
   "outputs": [],
   "source": []
  }
 ],
 "metadata": {
  "kernelspec": {
   "display_name": "Julia 0.4.2",
   "language": "julia",
   "name": "julia-0.4"
  },
  "language_info": {
   "file_extension": ".jl",
   "mimetype": "application/julia",
   "name": "julia",
   "version": "0.4.2"
  }
 },
 "nbformat": 4,
 "nbformat_minor": 0
}
