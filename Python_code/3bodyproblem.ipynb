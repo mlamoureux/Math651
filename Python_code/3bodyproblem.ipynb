{
 "cells": [
  {
   "cell_type": "markdown",
   "metadata": {},
   "source": [
    "Physical constants\n"
   ]
  },
  {
   "cell_type": "code",
   "execution_count": 1,
   "metadata": {
    "collapsed": true
   },
   "outputs": [],
   "source": [
    "G = 6.674e-11"
   ]
  },
  {
   "cell_type": "code",
   "execution_count": 2,
   "metadata": {
    "collapsed": false
   },
   "outputs": [
    {
     "data": {
      "text/plain": [
       "6.674e-11"
      ]
     },
     "execution_count": 2,
     "metadata": {},
     "output_type": "execute_result"
    }
   ],
   "source": [
    "G"
   ]
  },
  {
   "cell_type": "code",
   "execution_count": 3,
   "metadata": {
    "collapsed": true
   },
   "outputs": [],
   "source": [
    "m_earth= 5.972e24\n",
    "m_sun= 1.989e30\n",
    "m_moon = 7.34767309e22"
   ]
  },
  {
   "cell_type": "code",
   "execution_count": 5,
   "metadata": {
    "collapsed": true
   },
   "outputs": [],
   "source": [
    "d_earth_sun=149.6e9\n",
    "d_earth_moon= 3.84e8"
   ]
  },
  {
   "cell_type": "code",
   "execution_count": 6,
   "metadata": {
    "collapsed": true
   },
   "outputs": [],
   "source": [
    "pos_sun = (0,0)\n",
    "vel_sun = (0,0)\n",
    "pos_earth = (d_earth_sun,0)\n",
    "vel_earth = (0,30.3e3)\n",
    "pos_moon = (d_earth_sun,d_earth_moon)\n",
    "vel_moon = (1022,0)"
   ]
  },
  {
   "cell_type": "code",
   "execution_count": null,
   "metadata": {
    "collapsed": true
   },
   "outputs": [],
   "source": [
    "%matplotlib inline\n",
    "import numpy as np\n",
    "import matplotlib.pyplot as plt\n",
    "from scipy.integrate import odeint # This is the numerical solver"
   ]
  },
  {
   "cell_type": "code",
   "execution_count": null,
   "metadata": {
    "collapsed": true
   },
   "outputs": [],
   "source": [
    "def rhs(Y,t,omega):  # this is the function of the right hand side of the ODE\n",
    "    # Z = output\n",
    "    # x 1st derivative\n",
    "    Z[0] = Y[3]\n",
    "    Z[1] = Y[4]\n",
    "    Z[2] = Y[5]\n",
    "    # y 1st derivatives\n",
    "    Z[6] = Y[9]\n",
    "    Z[7] = Y[10]\n",
    "    Z[8] = Y[11]\n",
    "    # x accelerations\n",
    "    kes = G/((Z[0]-Z[1])**2 + (Z[6]-Z[7])**2)**(1.5)\n",
    "    kms = G/((Z[0]-Z[2])**2 + (Z[6]-Z[8])**2)**(1.5)\n",
    "    kem = G/((Z[1]-Z[2])**2 + (Z[7]-Z[8])**2)**(1.5)\n",
    "    Z[3] = kes*m_earth*(Z[1]-Z[0]) + kms*m_moon*(Z[2]-Z[0])\n",
    "    Z[4] = kes*m_sun*(Z[0]-Z[1]) + kem*m_moon*(Z[2]-Z[1])\n",
    "    Z[5] = kms*m_sun*(Z[0]-Z[2]) + kem*m_earth*(Z[1]-Z[2])\n",
    "    # y accelerations\n",
    "    Z[9] = kes*m_earth*(Z[7]-Z[6]) + kms*m_moon*(Z[8]-Z[6])\n",
    "    Z[10] = kes*m_sun*(Z[6]-Z[7]) + kem*m_moon*(Z[8]-Z[7])\n",
    "    Z[11] = kms*m_sun*(Z[6]-Z[8]) + kem*m_earth*(Z[7]-Z[8])\n",
    "    return Z"
   ]
  },
  {
   "cell_type": "code",
   "execution_count": null,
   "metadata": {
    "collapsed": false
   },
   "outputs": [],
   "source": [
    "\n"
   ]
  },
  {
   "cell_type": "code",
   "execution_count": null,
   "metadata": {
    "collapsed": true
   },
   "outputs": [],
   "source": []
  }
 ],
 "metadata": {
  "kernelspec": {
   "display_name": "Python 2",
   "language": "python",
   "name": "python2"
  },
  "language_info": {
   "codemirror_mode": {
    "name": "ipython",
    "version": 2
   },
   "file_extension": ".py",
   "mimetype": "text/x-python",
   "name": "python",
   "nbconvert_exporter": "python",
   "pygments_lexer": "ipython2",
   "version": "2.7.11"
  }
 },
 "nbformat": 4,
 "nbformat_minor": 0
}
