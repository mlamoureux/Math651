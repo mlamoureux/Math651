{
 "cells": [
  {
   "cell_type": "markdown",
   "metadata": {},
   "source": [
    "# Stochasic Processes in Python"
   ]
  },
  {
   "cell_type": "markdown",
   "metadata": {},
   "source": [
    "by Stuart Reid (<a href=\"http://www.stuartreid.co.za\">www.stuartreid.co.za</a>)"
   ]
  },
  {
   "cell_type": "markdown",
   "metadata": {},
   "source": [
    "For more information about these stochastic and their applications in Quantitative Finance please check out my blog post, <a href=\"http://www.stuartreid.co.za/random-walks-down-wall-street-stochastic-processes-in-python/\">Random Walks Down Wall Street, Stochastic Processes in Python</a>. This notebook contains the code presented in the article for four stochastic processes often used to model the evolution of asset prices and two mean-reverting stochastic processes often used to model the evolution of interest rates. Thes models include Brownian Motion (a Wiener Process), Geometric Brownian Motion, the Merton Jump Diffusion Model, the Heston Stochastic Volatility Model, the Cox Ingersoll Ross (CIR) process, and the Ornstein Uhlenbeck Model.\n",
    "\n",
    "A random event is any event which has a chance of happening. Probability is the measure of that chance. Random variables are functions which receive a random event and return a real number. Random variables may be discrete or continuous; discrete random variables are ones with a countable number of possible outcomes; continuous random variables are ones which have an infinite number of possible outcomes. In the context of finance, a stochastic process is a collection of random variables which describe the evolution of a system over some period of time.\n",
    "\n",
    "The beauty of random variables and stochastic processes is that they can be used to describe what is happening in the world around us. Often this is done by simulating multiple outcomes from a stochastic process in a Monte Carlo simulation. Example applications include the simulation of gambling games (Poker and Blackjack for sure), fluid and particle dynamics (which is often used in computer graphics for animations), in genetics to determine the likelihood of phylogenetic trees (how species relate), and even the evolution of stock prices and interest rates over time."
   ]
  },
  {
   "cell_type": "markdown",
   "metadata": {},
   "source": [
    "## Initial Setup"
   ]
  },
  {
   "cell_type": "markdown",
   "metadata": {},
   "source": [
    "The initial setup involves importing some very helpful Python packages which we can use to generate and analyze random numbers, creating a model parameters class for encapsulating the parameter values for the stochastic processes, and some useful helper methods for working with log returns or normal returns"
   ]
  },
  {
   "cell_type": "code",
   "execution_count": null,
   "metadata": {
    "collapsed": false
   },
   "outputs": [],
   "source": [
    "import math\n",
    "import numpy\n",
    "import random\n",
    "import decimal\n",
    "import scipy.linalg\n",
    "import numpy.random as nrand\n",
    "import matplotlib.pyplot as plt"
   ]
  },
  {
   "cell_type": "markdown",
   "metadata": {},
   "source": [
    "##### The model parameters class"
   ]
  },
  {
   "cell_type": "code",
   "execution_count": null,
   "metadata": {
    "collapsed": false
   },
   "outputs": [],
   "source": [
    "class ModelParameters:\n",
    "    \"\"\"\n",
    "    Encapsulates model parameters\n",
    "    \"\"\"\n",
    "\n",
    "    def __init__(self,\n",
    "                 all_s0, all_time, all_delta, all_sigma, gbm_mu,\n",
    "                 jumps_lamda=0.0, jumps_sigma=0.0, jumps_mu=0.0,\n",
    "                 cir_a=0.0, cir_mu=0.0, all_r0=0.0, cir_rho=0.0,\n",
    "                 ou_a=0.0, ou_mu=0.0,\n",
    "                 heston_a=0.0, heston_mu=0.0, heston_vol0=0.0):\n",
    "        # This is the starting asset value\n",
    "        self.all_s0 = all_s0\n",
    "        # This is the amount of time to simulate for\n",
    "        self.all_time = all_time\n",
    "        # This is the delta, the rate of time e.g. 1/252 = daily, 1/12 = monthly\n",
    "        self.all_delta = all_delta\n",
    "        # This is the volatility of the stochastic processes\n",
    "        self.all_sigma = all_sigma\n",
    "        # This is the annual drift factor for geometric brownian motion\n",
    "        self.gbm_mu = gbm_mu\n",
    "        # This is the probability of a jump happening at each point in time\n",
    "        self.lamda = jumps_lamda\n",
    "        # This is the volatility of the jump size\n",
    "        self.jumps_sigma = jumps_sigma\n",
    "        # This is the average jump size\n",
    "        self.jumps_mu = jumps_mu\n",
    "        # This is the rate of mean reversion for Cox Ingersoll Ross\n",
    "        self.cir_a = cir_a\n",
    "        # This is the long run average interest rate for Cox Ingersoll Ross\n",
    "        self.cir_mu = cir_mu\n",
    "        # This is the starting interest rate value\n",
    "        self.all_r0 = all_r0\n",
    "        # This is the correlation between the wiener processes of the Heston model\n",
    "        self.cir_rho = cir_rho\n",
    "        # This is the rate of mean reversion for Ornstein Uhlenbeck\n",
    "        self.ou_a = ou_a\n",
    "        # This is the long run average interest rate for Ornstein Uhlenbeck\n",
    "        self.ou_mu = ou_mu\n",
    "        # This is the rate of mean reversion for volatility in the Heston model\n",
    "        self.heston_a = heston_a\n",
    "        # This is the long run average volatility for the Heston model\n",
    "        self.heston_mu = heston_mu\n",
    "        # This is the starting volatility value for the Heston model\n",
    "        self.heston_vol0 = heston_vol0\n"
   ]
  },
  {
   "cell_type": "markdown",
   "metadata": {},
   "source": [
    "##### Example Usage"
   ]
  },
  {
   "cell_type": "code",
   "execution_count": null,
   "metadata": {
    "collapsed": false
   },
   "outputs": [],
   "source": [
    "mp = ModelParameters(all_s0=1000,\n",
    "                     all_r0=0.5,\n",
    "                     all_time=800,\n",
    "                     all_delta=0.00396825396,\n",
    "                     all_sigma=0.125,\n",
    "                     gbm_mu=0.058,\n",
    "                     jumps_lamda=0.00125,\n",
    "                     jumps_sigma=0.001,\n",
    "                     jumps_mu=-0.2,\n",
    "                     cir_a=3.0,\n",
    "                     cir_mu=0.5,\n",
    "                     cir_rho=0.5,\n",
    "                     ou_a=3.0,\n",
    "                     ou_mu=0.5,\n",
    "                     heston_a=0.25,\n",
    "                     heston_mu=0.35,\n",
    "                     heston_vol0=0.06125)\n",
    "\n",
    "paths = 15"
   ]
  },
  {
   "cell_type": "markdown",
   "metadata": {},
   "source": [
    "##### A plotting helper class"
   ]
  },
  {
   "cell_type": "code",
   "execution_count": null,
   "metadata": {
    "collapsed": false
   },
   "outputs": [],
   "source": [
    "def plot_stochastic_processes(processes, title):\n",
    "    \"\"\"\n",
    "    This method plots a list of stochastic processes with a specified title\n",
    "    :return: plots the graph of the two\n",
    "    \"\"\"\n",
    "    plt.style.use(['bmh'])\n",
    "    fig, ax = plt.subplots(1)\n",
    "    fig.suptitle(title, fontsize=16)\n",
    "    ax.set_xlabel('Time, t')\n",
    "    ax.set_ylabel('Simulated Asset Price')\n",
    "    x_axis = numpy.arange(0, len(processes[0]), 1)\n",
    "    for i in range(len(processes)):\n",
    "        plt.plot(x_axis, processes[i])\n",
    "    plt.show()"
   ]
  },
  {
   "cell_type": "markdown",
   "metadata": {},
   "source": [
    "##### Two helper classes for working with returns"
   ]
  },
  {
   "cell_type": "code",
   "execution_count": null,
   "metadata": {
    "collapsed": false
   },
   "outputs": [],
   "source": [
    "def convert_to_returns(log_returns):\n",
    "    \"\"\"\n",
    "    This method exponentiates a sequence of log returns to get daily returns.\n",
    "    :param log_returns: the log returns to exponentiated\n",
    "    :return: the exponentiated returns\n",
    "    \"\"\"\n",
    "    return numpy.exp(log_returns)\n",
    "\n",
    "\n",
    "def convert_to_prices(param, log_returns):\n",
    "    \"\"\"\n",
    "    This method converts a sequence of log returns into normal returns (exponentiation) and then computes a price\n",
    "    sequence given a starting price, param.all_s0.\n",
    "    :param param: the model parameters object\n",
    "    :param log_returns: the log returns to exponentiated\n",
    "    :return:\n",
    "    \"\"\"\n",
    "    returns = convert_to_returns(log_returns)\n",
    "    # A sequence of prices starting with param.all_s0\n",
    "    price_sequence = [param.all_s0]\n",
    "    for i in range(1, len(returns)):\n",
    "        # Add the price at t-1 * return at t\n",
    "        price_sequence.append(price_sequence[i - 1] * returns[i - 1])\n",
    "    return numpy.array(price_sequence)"
   ]
  },
  {
   "cell_type": "markdown",
   "metadata": {},
   "source": [
    "## <a href=\"http://en.wikipedia.org/wiki/Brownian_motion\">Brownian Motion</a>"
   ]
  },
  {
   "cell_type": "markdown",
   "metadata": {},
   "source": [
    "Brownian motion is the random motion exhibited by particles which have been suspended in a gas or liquid. This random motion is caused by the collision of the particles with the atoms or molecules in the liquid or gas. Brownian Motion is named after the Botanist Robert Brown who observed the random movements in 1827. The relationship between Brownian Motion and financial markets dates back to a paper written many years later, in 1900, by Louis Bachelier entitled The Theory of Speculation. His paper was the first to propose the use of Brownian Motion to evaluate stock options. The paper did not surface until later works in deriving the famous Black Scholes options pricing formula developed by Fisher Black and Myron Scholes in 1973. In the context of stochastic processes used in finance, Brownian Motion is often described as a Wiener process, denoted by $W_t$. A Wiener process is described by the following properties,\n",
    "\n",
    "<ul>\n",
    "    <li> $W_0 = 0$\n",
    "    <li> The function $t - W_t$ is almost surely everywhere continuous\n",
    "    <li> $W_t$ has independent normally distributed increments i.e. $W_t - W_s = N(0, t-s)$\n",
    "</ul>"
   ]
  },
  {
   "cell_type": "code",
   "execution_count": null,
   "metadata": {
    "collapsed": false
   },
   "outputs": [],
   "source": [
    "def brownian_motion_log_returns(param):\n",
    "    \"\"\"\n",
    "    This method returns a Wiener process. The Wiener process is also called Brownian motion. For more information\n",
    "    about the Wiener process check out the Wikipedia page: http://en.wikipedia.org/wiki/Wiener_process\n",
    "    :param param: the model parameters object\n",
    "    :return: brownian motion log returns\n",
    "    \"\"\"\n",
    "    sqrt_delta_sigma = math.sqrt(param.all_delta) * param.all_sigma\n",
    "    return nrand.normal(loc=0, scale=sqrt_delta_sigma, size=param.all_time)\n",
    "\n",
    "def brownian_motion_levels(param):\n",
    "    \"\"\"\n",
    "    Returns a price sequence whose returns evolve according to a brownian motion\n",
    "    :param param: model parameters object\n",
    "    :return: returns a price sequence which follows a brownian motion\n",
    "    \"\"\"\n",
    "    return convert_to_prices(param, brownian_motion_log_returns(param))"
   ]
  },
  {
   "cell_type": "markdown",
   "metadata": {},
   "source": [
    "##### Example usage"
   ]
  },
  {
   "cell_type": "code",
   "execution_count": null,
   "metadata": {
    "collapsed": false
   },
   "outputs": [],
   "source": [
    "brownian_motion_examples = []\n",
    "for i in range(paths):\n",
    "    brownian_motion_examples.append(brownian_motion_levels(mp))\n",
    "plot_stochastic_processes(brownian_motion_examples, \"Brownian Motion\")"
   ]
  },
  {
   "cell_type": "markdown",
   "metadata": {},
   "source": [
    "## <a href=\"http://en.wikipedia.org/wiki/Geometric_Brownian_motion\">Geometric Brownian Motion</a>"
   ]
  },
  {
   "cell_type": "markdown",
   "metadata": {},
   "source": [
    "Geometric Brownian Motion (GBM) was popularized by Fisher Black and Myron Scholes when they used it in their 1973 paper, The Pricing of Options and Corporate Liabilities, to derive the Black Scholes equation. Geometric Brownian Motion is essentially Brownian Motion with a drift component and volatility component. The stochastic differential equation which describes the evolution of a Geometric Brownian Motion stochastic process is,\n",
    "\n",
    "$$dS_t = \\mu S_t dt + \\sigma d S_t W_t$$\n",
    "\n",
    "where $dS_t$ is the change in the asset price, $S$, at time $t$; $\\mu$ is the percentage drift expected per annum, $dt$, represents time (1/252 is used for daily changes), $\\sigma$ is the daily volatility expected in the asset prices, and $W_t$ is a Wiener process a.k.a Brownian Motion."
   ]
  },
  {
   "cell_type": "code",
   "execution_count": null,
   "metadata": {
    "collapsed": false
   },
   "outputs": [],
   "source": [
    "def geometric_brownian_motion_log_returns(param):\n",
    "    \"\"\"\n",
    "    This method constructs a sequence of log returns which, when exponentiated, produce a random Geometric Brownian\n",
    "    Motion (GBM). GBM is the stochastic process underlying the Black Scholes options pricing formula.\n",
    "    :param param: model parameters object\n",
    "    :return: returns the log returns of a geometric brownian motion process\n",
    "    \"\"\"\n",
    "    assert isinstance(param, ModelParameters)\n",
    "    wiener_process = numpy.array(brownian_motion_log_returns(param))\n",
    "    sigma_pow_mu_delta = (param.gbm_mu - 0.5 * math.pow(param.all_sigma, 2.0)) * param.all_delta\n",
    "    return wiener_process + sigma_pow_mu_delta\n",
    "\n",
    "def geometric_brownian_motion_levels(param):\n",
    "    \"\"\"\n",
    "    Returns a sequence of price levels for an asset which evolves according to a geometric brownian motion\n",
    "    :param param: model parameters object\n",
    "    :return: the price levels for the asset\n",
    "    \"\"\"\n",
    "    return convert_to_prices(param, geometric_brownian_motion_log_returns(param))"
   ]
  },
  {
   "cell_type": "markdown",
   "metadata": {},
   "source": [
    "##### Example usage"
   ]
  },
  {
   "cell_type": "code",
   "execution_count": null,
   "metadata": {
    "collapsed": false
   },
   "outputs": [],
   "source": [
    "geometric_brownian_motion_examples = []\n",
    "for i in range(paths):\n",
    "    geometric_brownian_motion_examples.append(geometric_brownian_motion_levels(mp))\n",
    "plot_stochastic_processes(geometric_brownian_motion_examples, \"Geometric Brownian Motion\")"
   ]
  },
  {
   "cell_type": "markdown",
   "metadata": {},
   "source": [
    "## <a href=\"http://en.wikipedia.org/wiki/Jump_diffusion\">The Merton Jump Diffusion Model</a>"
   ]
  },
  {
   "cell_type": "markdown",
   "metadata": {},
   "source": [
    "Robert C. Merton was one of the first academics to address some of the limitations in the Geometric Brownian Stochastic Process presented by Fisher Black and Myron Scholes. In  1997 Merton and Scholes won a Nobel Price in Economics for their work; Black had unfortunately passed away at that point in time. One of the stochastic processes proposed by Merton addressed the impossibility of a discontinuity occurring in the continuous Geometric Brownian Motion model.\n",
    "\n",
    "Merton extended the original Geometric Brownian Motion process with a Jump Diffusion process in his 1976 paper, Option pricing when underlying stock returns are discontinuous. For an in-depth discussion on the mathematics underlying Jump Diffusion processes please see, an Introduction to Diffusion and Jump Diffusion Processes but in summary the stochastic process adds a jump process such as a compound Poisson process to an underlying diffusion process such as Geometric Brownian Motion. In the code below the jump component is called jump_sizes,\n",
    "\n",
    "$$dS_t = \\mu S_t dt + \\sigma S_t d W_t + dJ_t$$\n",
    "$$dJ_t = S_t d(\\sum^{N_t}_{i=0}(Y_i-1))$$\n",
    "\n",
    "where $N_t$ is the Poisson process with rate $\\lambda$ and $Y_i$ is a random variable which follows a log-normal distribution."
   ]
  },
  {
   "cell_type": "code",
   "execution_count": null,
   "metadata": {
    "collapsed": false
   },
   "outputs": [],
   "source": [
    "def jump_diffusion_process(param):\n",
    "    \"\"\"\n",
    "    This method produces a sequence of Jump Sizes which represent a jump diffusion process. These jumps are combined\n",
    "    with a geometric brownian motion (log returns) to produce the Merton model.\n",
    "    :param param: the model parameters object\n",
    "    :return: jump sizes for each point in time (mostly zeroes if jumps are infrequent)\n",
    "    \"\"\"\n",
    "    assert isinstance(param, ModelParameters)\n",
    "    s_n = time = 0\n",
    "    small_lamda = -(1.0 / param.lamda)\n",
    "    jump_sizes = []\n",
    "    for k in range(0, param.all_time):\n",
    "        jump_sizes.append(0.0)\n",
    "    while s_n < param.all_time:\n",
    "        s_n += small_lamda * math.log(random.uniform(0, 1))\n",
    "        for j in range(0, param.all_time):\n",
    "            if time * param.all_delta <= s_n * param.all_delta <= (j + 1) * param.all_delta:\n",
    "                # print(\"was true\")\n",
    "                jump_sizes[j] += random.normalvariate(param.jumps_mu, param.jumps_sigma)\n",
    "                break\n",
    "        time += 1\n",
    "    return jump_sizes\n",
    "\n",
    "def geometric_brownian_motion_jump_diffusion_log_returns(param):\n",
    "    \"\"\"\n",
    "    This method constructs combines a geometric brownian motion process (log returns) with a jump diffusion process\n",
    "    (log returns) to produce a sequence of gbm jump returns.\n",
    "    :param param: model parameters object\n",
    "    :return: returns a GBM process with jumps in it\n",
    "    \"\"\"\n",
    "    assert isinstance(param, ModelParameters)\n",
    "    jump_diffusion = jump_diffusion_process(param)\n",
    "    geometric_brownian_motion = geometric_brownian_motion_log_returns(param)\n",
    "    return numpy.add(jump_diffusion, geometric_brownian_motion)\n",
    "\n",
    "\n",
    "def geometric_brownian_motion_jump_diffusion_levels(param):\n",
    "    \"\"\"\n",
    "    This method converts a sequence of gbm jmp returns into a price sequence which evolves according to a geometric\n",
    "    brownian motion but can contain jumps at any point in time.\n",
    "    :param param: model parameters object\n",
    "    :return: the price levels\n",
    "    \"\"\"\n",
    "    return convert_to_prices(param, geometric_brownian_motion_jump_diffusion_log_returns(param))"
   ]
  },
  {
   "cell_type": "markdown",
   "metadata": {},
   "source": [
    "##### Example usage"
   ]
  },
  {
   "cell_type": "code",
   "execution_count": null,
   "metadata": {
    "collapsed": false
   },
   "outputs": [],
   "source": [
    "jump_diffusion_examples = []\n",
    "for i in range(paths):\n",
    "    jump_diffusion_examples.append(geometric_brownian_motion_jump_diffusion_levels(mp))\n",
    "plot_stochastic_processes(jump_diffusion_examples, \"Jump Diffusion Geometric Brownian Motion (Merton)\")"
   ]
  },
  {
   "cell_type": "markdown",
   "metadata": {},
   "source": [
    "## <a href=\"http://en.wikipedia.org/wiki/Heston_model\">The Heston Stochastic Volatility Model</a>"
   ]
  },
  {
   "cell_type": "markdown",
   "metadata": {},
   "source": [
    "The original Geometric Brownian Motion stochastic process assumes that volatility over time is constant. In the early 1990's Steven Heston relaxed this assumption and extended the Geometric Brownian Motion model to include stochastic volatility. The resulting model is called the Heston model. In the Heston model volatility over time evolves over time according to the Cox Ingersoll Ross stochastic process. As such the model makes use to two Wiener processes, one for the Cox Ingersoll Ross process and another for the Geometric Brownian Motion process which uses the Cox Ingersoll Ross process as volatility. These two Wiener processes are correlated and can be constructed using a Cholesky Decomposition. The stochastic differential equation for the Heston model is given as,\n",
    "\n",
    "$$dS_t = \\mu S_t dt + \\sqrt{v_t}S_t d W^S_t$$\n",
    "$$dv_t = a(b-v_t)dt + \\sigma\\sqrt{v_t} d W^v_t$$\n",
    "\n",
    "where $\\mu$ is the drift of the asset, $S^S$ and $W^v$ are two correlated Wiener processes where the correlation is given by $\\rho$, $a$ is the rate of mean-reversion of the Cox Ingersoll Ross process, $b$ is the mean value over time (in this case the mean volatility over time), and $\\sigma$ is the volatility of the Cox Ingersoll Ross process. \n",
    "\n",
    "The term, $a(b−vt)$ is also called the drift factor."
   ]
  },
  {
   "cell_type": "markdown",
   "metadata": {},
   "source": [
    "##### Correlated Wiener Processes"
   ]
  },
  {
   "cell_type": "code",
   "execution_count": null,
   "metadata": {
    "collapsed": false
   },
   "outputs": [],
   "source": [
    "def heston_construct_correlated_path(param, brownian_motion_one):\n",
    "    \"\"\"\n",
    "    This method is a simplified version of the Cholesky decomposition method for just two assets. It does not make use\n",
    "    of matrix algebra and is therefore quite easy to implement.\n",
    "    :param param: model parameters object\n",
    "    :return: a correlated brownian motion path\n",
    "    \"\"\"\n",
    "    # We do not multiply by sigma here, we do that in the Heston model\n",
    "    sqrt_delta = math.sqrt(param.all_delta)\n",
    "    # Construct a path correlated to the first path\n",
    "    brownian_motion_two = []\n",
    "    for i in range(param.all_time - 1):\n",
    "        term_one = param.cir_rho * brownian_motion_one[i]\n",
    "        term_two = math.sqrt(1 - math.pow(param.cir_rho, 2.0)) * random.normalvariate(0, sqrt_delta)\n",
    "        brownian_motion_two.append(term_one + term_two)\n",
    "    return numpy.array(brownian_motion_one), numpy.array(brownian_motion_two)\n",
    "\n",
    "def get_correlated_geometric_brownian_motions(param, correlation_matrix, n):\n",
    "    \"\"\"\n",
    "    This method can construct a basket of correlated asset paths using the Cholesky decomposition method\n",
    "    :param param: model parameters object\n",
    "    :param correlation_matrix: nxn correlation matrix\n",
    "    :param n: the number of assets i.e. the number of paths to return\n",
    "    :return: n correlated log return geometric brownian motion processes\n",
    "    \"\"\"\n",
    "    assert isinstance(param, ModelParameters)\n",
    "    decomposition = scipy.linalg.cholesky(correlation_matrix, lower=False)\n",
    "    uncorrelated_paths = []\n",
    "    sqrt_delta_sigma = math.sqrt(param.all_delta) * param.all_sigma\n",
    "    # Construct uncorrelated paths to convert into correlated paths\n",
    "    for i in range(param.all_time):\n",
    "        uncorrelated_random_numbers = []\n",
    "        for j in range(n):\n",
    "            uncorrelated_random_numbers.append(random.normalvariate(0, sqrt_delta_sigma))\n",
    "        uncorrelated_paths.append(numpy.array(uncorrelated_random_numbers))\n",
    "    uncorrelated_matrix = numpy.matrix(uncorrelated_paths)\n",
    "    correlated_matrix = uncorrelated_matrix * decomposition\n",
    "    assert isinstance(correlated_matrix, numpy.matrix)\n",
    "    # The rest of this method just extracts paths from the matrix\n",
    "    extracted_paths = []\n",
    "    for i in range(1, n + 1):\n",
    "        extracted_paths.append([])\n",
    "    for j in range(0, len(correlated_matrix)*n - n, n):\n",
    "        for i in range(n):\n",
    "            extracted_paths[i].append(correlated_matrix.item(j + i))\n",
    "    return extracted_paths"
   ]
  },
  {
   "cell_type": "markdown",
   "metadata": {},
   "source": [
    "The following code is used to construct the volatility path"
   ]
  },
  {
   "cell_type": "code",
   "execution_count": null,
   "metadata": {
    "collapsed": false
   },
   "outputs": [],
   "source": [
    "def cox_ingersoll_ross_heston(param):\n",
    "    \"\"\"\n",
    "    This method returns the rate levels of a mean-reverting cox ingersoll ross process. It is used to model interest\n",
    "    rates as well as stochastic volatility in the Heston model. Because the returns between the underlying and the\n",
    "    stochastic volatility should be correlated we pass a correlated Brownian motion process into the method from which\n",
    "    the interest rate levels are constructed. The other correlated process is used in the Heston model\n",
    "    :param param: the model parameters objects\n",
    "    :return: the interest rate levels for the CIR process\n",
    "    \"\"\"\n",
    "    # We don't multiply by sigma here because we do that in heston\n",
    "    sqrt_delta_sigma = math.sqrt(param.all_delta) * param.all_sigma\n",
    "    brownian_motion_volatility = nrand.normal(loc=0, scale=sqrt_delta_sigma, size=param.all_time)\n",
    "    a, mu, zero = param.heston_a, param.heston_mu, param.heston_vol0\n",
    "    volatilities = [zero]\n",
    "    for i in range(1, param.all_time):\n",
    "        drift = a * (mu - volatilities[i-1]) * param.all_delta\n",
    "        randomness = math.sqrt(max(volatilities[i - 1], 0.05)) * brownian_motion_volatility[i - 1]\n",
    "        volatilities.append(max(volatilities[i - 1], 0.05) + drift + randomness)\n",
    "    return numpy.array(brownian_motion_volatility), numpy.array(volatilities)"
   ]
  },
  {
   "cell_type": "markdown",
   "metadata": {},
   "source": [
    "The following code is used to construct the asset price levels"
   ]
  },
  {
   "cell_type": "code",
   "execution_count": null,
   "metadata": {
    "collapsed": false
   },
   "outputs": [],
   "source": [
    "def heston_model_levels(param):\n",
    "    \"\"\"\n",
    "    NOTE - this method is dodgy! Need to debug!\n",
    "    The Heston model is the geometric brownian motion model with stochastic volatility. This stochastic volatility is\n",
    "    given by the cox ingersoll ross process. Step one on this method is to construct two correlated GBM processes. One\n",
    "    is used for the underlying asset prices and the other is used for the stochastic volatility levels\n",
    "    :param param: model parameters object\n",
    "    :return: the prices for an underlying following a Heston process\n",
    "    \"\"\"\n",
    "    assert isinstance(param, ModelParameters)\n",
    "    # Get two correlated brownian motion sequences for the volatility parameter and the underlying asset\n",
    "    # brownian_motion_market, brownian_motion_vol = get_correlated_paths_simple(param)\n",
    "    brownian, cir_process = cox_ingersoll_ross_heston(param)\n",
    "    brownian, brownian_motion_market = heston_construct_correlated_path(param, brownian)\n",
    "\n",
    "    heston_market_price_levels = [param.all_s0]\n",
    "    for i in range(1, param.all_time):\n",
    "        drift = param.gbm_mu * heston_market_price_levels[i - 1] * param.all_delta\n",
    "        vol = cir_process[i - 1] * heston_market_price_levels[i - 1] * brownian_motion_market[i - 1]\n",
    "        heston_market_price_levels.append(heston_market_price_levels[i - 1] + drift + vol)\n",
    "    return numpy.array(heston_market_price_levels), numpy.array(cir_process)"
   ]
  },
  {
   "cell_type": "markdown",
   "metadata": {},
   "source": [
    "##### Example usage - price levels"
   ]
  },
  {
   "cell_type": "code",
   "execution_count": null,
   "metadata": {
    "collapsed": false
   },
   "outputs": [],
   "source": [
    "stochastic_volatility_examples = []\n",
    "for i in range(paths):\n",
    "    stochastic_volatility_examples.append(heston_model_levels(mp)[0])\n",
    "plot_stochastic_processes(stochastic_volatility_examples, \"Stochastic Volatility Geometric Brownian Motion (Heston)\")"
   ]
  },
  {
   "cell_type": "markdown",
   "metadata": {},
   "source": [
    "##### Example usage - volatility levels"
   ]
  },
  {
   "cell_type": "code",
   "execution_count": null,
   "metadata": {
    "collapsed": false
   },
   "outputs": [],
   "source": [
    "stochastic_volatility_examples = []\n",
    "for i in range(paths):\n",
    "    stochastic_volatility_examples.append(heston_model_levels(mp)[1])\n",
    "plot_stochastic_processes(stochastic_volatility_examples, \"Stochastic Volatility Geometric Brownian Motion (Heston)\")"
   ]
  },
  {
   "cell_type": "markdown",
   "metadata": {},
   "source": [
    "## <a href=\"http://en.wikipedia.org/wiki/Cox%E2%80%93Ingersoll%E2%80%93Ross_model\">Cox Ingersoll Ross</a>"
   ]
  },
  {
   "cell_type": "markdown",
   "metadata": {},
   "source": [
    "The Cox Ingersoll Ross (CIR) stochastic process is used to describe the evolution of interest rates over time. The CIR stochastic process was first introduced in 1985 by John Cox, Johnathan Ingersoll, and Stephen Ross. The CIR process is an extension of the Ornstein Uhlenbeck stochastic process. The stochastic process is often used in the valuation of interest rate derivatives and has been used in the Heston model to describe the evolution of volatility over time. One interesting characteristic of the CIR stochastic process is that it is mean-reverting. Mean reversion is the phenomena whereby a level tends to move towards the average level over time. In other words, if the average interest rate is 0.5%, and we simulate 500 independent CIR processes, we would expect the average interest rate at the end of the projection period to be approximately 0.5%. The stochastic differential equation for the CIR process is given by,\n",
    "\n",
    "$$d r_t = a(b - r_t)dt + \\sigma \\sqrt{r_t} d W_t$$\n",
    "\n",
    "where $W_t$ is a Wiener process, $a$ is the rate at which the process mean reverts (a larger number results in a faster mean reverting process), $b$ is the long run average interest rate, and $\\sigma$ is the volatility of the process. The code for the CIR stochastic process is given below."
   ]
  },
  {
   "cell_type": "code",
   "execution_count": null,
   "metadata": {
    "collapsed": false
   },
   "outputs": [],
   "source": [
    "def cox_ingersoll_ross_levels(param):\n",
    "    \"\"\"\n",
    "    This method returns the rate levels of a mean-reverting cox ingersoll ross process. It is used to model interest\n",
    "    rates as well as stochastic volatility in the Heston model. Because the returns between the underlying and the\n",
    "    stochastic volatility should be correlated we pass a correlated Brownian motion process into the method from which\n",
    "    the interest rate levels are constructed. The other correlated process is used in the Heston model\n",
    "    :param param: the model parameters object\n",
    "    :return: the interest rate levels for the CIR process\n",
    "    \"\"\"\n",
    "    brownian_motion = brownian_motion_log_returns(param)\n",
    "    # Setup the parameters for interest rates\n",
    "    a, mu, zero = param.cir_a, param.cir_mu, param.all_r0\n",
    "    # Assumes output is in levels\n",
    "    levels = [zero]\n",
    "    for i in range(1, param.all_time):\n",
    "        drift = a * (mu - levels[i-1]) * param.all_delta\n",
    "        # The main difference between this and the Ornstein Uhlenbeck model is that we multiply the 'random'\n",
    "        # component by the square-root of the previous level i.e. the process has level dependent interest rates.\n",
    "        randomness = math.sqrt(levels[i - 1]) * brownian_motion[i - 1]\n",
    "        levels.append(levels[i - 1] + drift + randomness)\n",
    "    return numpy.array(levels)"
   ]
  },
  {
   "cell_type": "markdown",
   "metadata": {},
   "source": [
    "##### Example usage"
   ]
  },
  {
   "cell_type": "code",
   "execution_count": null,
   "metadata": {
    "collapsed": false
   },
   "outputs": [],
   "source": [
    "cir_examples = []\n",
    "for i in range(paths):\n",
    "    cir_examples.append(cox_ingersoll_ross_levels(mp))\n",
    "plot_stochastic_processes(cir_examples, \"Cox Ingersoll Ross\")"
   ]
  },
  {
   "cell_type": "markdown",
   "metadata": {},
   "source": [
    "## <a href=\"http://en.wikipedia.org/wiki/Ornstein%E2%80%93Uhlenbeck_process\">Ornstein Uhlenbeck</a>"
   ]
  },
  {
   "cell_type": "markdown",
   "metadata": {},
   "source": [
    "The Ornstein Uhlebneck stochastic process is another mean-reverting process which is sometimes used for modelling interest rates. The Ornstein Uhlenbeck process is named after Leonard Ornstein and George Eugene Uhlenbeck. The difference between the Ornstein Uhlenbeck stochastic process and the CIR process is that the CIR processes multiplies the stochastic component by the square root of the previous value for the interest rate. The stochastic differential equation for the Ornstein Uhlenbeck process is,\n",
    "\n",
    "$$d r_t = a(b - r_t)dt + \\sigma r_t d W_t$$\n",
    "\n",
    "where $W_t$ is a Wiener process, $a$ is the rate at which the process mean reverts (a larger number results in a faster mean reverting process), $b$ is the long run average interest rate, and $\\sigma$ is the volatility of the process. The code for the Ornstein Uhlenbeck stochastic process is given below."
   ]
  },
  {
   "cell_type": "code",
   "execution_count": null,
   "metadata": {
    "collapsed": false
   },
   "outputs": [],
   "source": [
    "def ornstein_uhlenbeck_levels(param):\n",
    "    \"\"\"\n",
    "    This method returns the rate levels of a mean-reverting ornstein uhlenbeck process.\n",
    "    :param param: the model parameters object\n",
    "    :return: the interest rate levels for the Ornstein Uhlenbeck process\n",
    "    \"\"\"\n",
    "    ou_levels = [param.all_r0]\n",
    "    brownian_motion_returns = brownian_motion_log_returns(param)\n",
    "    for i in range(1, param.all_time):\n",
    "        drift = param.ou_a * (param.ou_mu - ou_levels[i-1]) * param.all_delta\n",
    "        randomness = brownian_motion_returns[i - 1]\n",
    "        ou_levels.append(ou_levels[i - 1] + drift + randomness)\n",
    "    return ou_levels"
   ]
  },
  {
   "cell_type": "markdown",
   "metadata": {},
   "source": [
    "##### Example Usage"
   ]
  },
  {
   "cell_type": "code",
   "execution_count": null,
   "metadata": {
    "collapsed": false
   },
   "outputs": [],
   "source": [
    "ou_examples = []\n",
    "for i in range(paths):\n",
    "    ou_examples.append(ornstein_uhlenbeck_levels(mp))\n",
    "plot_stochastic_processes(ou_examples, \"Ornstein Uhlenbeck\")"
   ]
  },
  {
   "cell_type": "markdown",
   "metadata": {},
   "source": [
    "## Conclusion and further work"
   ]
  },
  {
   "cell_type": "markdown",
   "metadata": {},
   "source": [
    "For more information about these stochastic and their applications in Quantitative Finance please check out my blog post, <a href=\"http://www.stuartreid.co.za/random-walks-down-wall-street-stochastic-processes-in-python/\">Random Walks Down Wall Street, Stochastic Processes in Python</a>. Stochastic processes are useful for describing the random processes we find in the world around us. They are used in engineering, genetics, physics, and in quantitative finance. Quants use stochastic processes to project possible returns in markets and changes in interest rates over time. Stochastic processes are often used in conjunction with Monte Carlo methods to derive fair values for over the counter derivatives."
   ]
  }
 ],
 "metadata": {
  "kernelspec": {
   "display_name": "Python 2",
   "language": "python",
   "name": "python2"
  },
  "language_info": {
   "codemirror_mode": {
    "name": "ipython",
    "version": 2
   },
   "file_extension": ".py",
   "mimetype": "text/x-python",
   "name": "python",
   "nbconvert_exporter": "python",
   "pygments_lexer": "ipython2",
   "version": "2.7.10"
  }
 },
 "nbformat": 4,
 "nbformat_minor": 0
}
