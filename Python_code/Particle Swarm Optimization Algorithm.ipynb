{
 "metadata": {
  "name": "",
  "signature": "sha256:b5c998aca1c214e1b55bc521b22a40579e8bfc85f66c8c201d8cb11db341a47b"
 },
 "nbformat": 3,
 "nbformat_minor": 0,
 "worksheets": [
  {
   "cells": [
    {
     "cell_type": "heading",
     "level": 1,
     "metadata": {},
     "source": [
      "Particle Swarm Optimization Algorithm"
     ]
    },
    {
     "cell_type": "markdown",
     "metadata": {},
     "source": [
      "by Stuart Reid (<a href=\"http://www.stuartreid.co.za\">www.stuartreid.co.za</a>)"
     ]
    },
    {
     "cell_type": "markdown",
     "metadata": {},
     "source": [
      "Originally inspired by the behaviour of flocking birds, the particle swarm optimization algorithm solves optimization problems by moving a \"swarm\" of three or more particles (vectors) towards the best particle in the swarm. As such, the optimization algorithm can be classified as a direct-search, population-based, meta-heuristic, global optimization algorithm. This IPython notebook will introduce the algorithm using Numpy and mention a few of it's applications in quantitative finance."
     ]
    },
    {
     "cell_type": "code",
     "collapsed": false,
     "input": [
      "import math\n",
      "import numpy\n",
      "import numpy.random as nrand\n",
      "import matplotlib.pylab as plt\n",
      "import matplotlib.gridspec as gridspec"
     ],
     "language": "python",
     "metadata": {},
     "outputs": [],
     "prompt_number": 535
    },
    {
     "cell_type": "markdown",
     "metadata": {},
     "source": [
      "This class contains the logic belonging to each particle. Particles are defined by three n-dimensional vectors, their current position in the search space, their best ever position in the search space, and their velocities. The velocity of a particle is an n-dimensional vector which describes in which direction it will travel. The velocity is calculated as the currency velocity plus a cognitive component and social component all multiplied by inertia. The cognitive component is the dot-product of a uniformly distributed n-dimensional random vector between zero and one and the difference "
     ]
    },
    {
     "cell_type": "code",
     "collapsed": false,
     "input": [
      "class Particle:\n",
      "    def __init__(self, n, r):\n",
      "        self.n = n # Dimensions\n",
      "        self.position = nrand.uniform(low=r[0], high=r[1], size=n)\n",
      "        self.velocity = nrand.rand(n) / 100.0\n",
      "        self.pbest = self.position\n",
      "    \n",
      "    def update_particle(self, gbest):\n",
      "        self.update_velocity(gbest)\n",
      "        self.update_position()\n",
      "    \n",
      "    def update_velocity(self, gbest):\n",
      "        r1 = nrand.rand(self.n)\n",
      "        r2 = nrand.rand(self.n)\n",
      "        social = 1.496180 * r1 * gbest.position - self.position\n",
      "        cognitive = 1.496180 * r2 * self.pbest - self.position\n",
      "        self.velocity += social + cognitive\n",
      "        self.velocity *= 0.729844\n",
      "    \n",
      "    def update_position(self):\n",
      "        self.position += self.velocity"
     ],
     "language": "python",
     "metadata": {},
     "outputs": [],
     "prompt_number": 526
    },
    {
     "cell_type": "markdown",
     "metadata": {},
     "source": [
      "This class contains a simple minimization objective function which I have created. It is simply the sum of the sin graphs for each element in the vector minus the mean of the vector. The resulting fitness lanscape is non-convex and has infinitely many local optima."
     ]
    },
    {
     "cell_type": "code",
     "collapsed": false,
     "input": [
      "def problem_1d(x):\n",
      "    if x > 8.0 or x < -8.0:\n",
      "        return 5.0\n",
      "    return math.sin(x) - (x / 2.0)"
     ],
     "language": "python",
     "metadata": {},
     "outputs": [],
     "prompt_number": 527
    },
    {
     "cell_type": "markdown",
     "metadata": {},
     "source": [
      "Example output for the objective function where each element in the vector is equal and increasing by 0.01"
     ]
    },
    {
     "cell_type": "code",
     "collapsed": false,
     "input": [
      "values = []\n",
      "solution = -9.0\n",
      "while solution < 9.0:\n",
      "    values.append(problem_1d(solution))\n",
      "    solution += 0.01\n",
      "x_axis = numpy.linspace(-9.0, 9.0, len(values))\n",
      "plt.plot(x_axis, values)"
     ],
     "language": "python",
     "metadata": {},
     "outputs": [
      {
       "metadata": {},
       "output_type": "pyout",
       "prompt_number": 528,
       "text": [
        "[<matplotlib.lines.Line2D at 0x330cb240>]"
       ]
      },
      {
       "metadata": {},
       "output_type": "display_data",
       "png": "[encoded data removed]",
       "text": [
        "<matplotlib.figure.Figure at 0x3259a208>"
       ]
      }
     ],
     "prompt_number": 528
    },
    {
     "cell_type": "markdown",
     "metadata": {},
     "source": [
      "This class contains the optimizer code"
     ]
    },
    {
     "cell_type": "code",
     "collapsed": false,
     "input": [
      "class Optimizer:\n",
      "    def __init__(self, m, n, opt):\n",
      "        self.opt = opt\n",
      "        self.swarm = []\n",
      "        for i in range(m):\n",
      "            self.swarm.append(Particle(n, [-9.0, 9.0]))\n",
      "    \n",
      "    def get_best(self):\n",
      "        gbest = None\n",
      "        min_fit = float('+inf')\n",
      "        for i in range(len(self.swarm)):\n",
      "            f = problem(self.swarm[i].pbest) \n",
      "            if f < min_fit:\n",
      "                gbest = i\n",
      "                min_fit = f\n",
      "        return gbest\n",
      "    \n",
      "    def optimize(self, steps):\n",
      "        positions = [self.swarm[i].position[0] for i in range(len(self.swarm))]\n",
      "        fitnesses = [problem_1d(positions[i]) for i in range(len(positions))]\n",
      "        for i in range(steps):\n",
      "            positions, fitnesses = self.optimize_step()\n",
      "        return positions, fitnesses\n",
      "    \n",
      "    def optimize_step(self):\n",
      "        gbest = self.get_best()\n",
      "        positions = []\n",
      "        fitnesses = []\n",
      "        for i in range(len(self.swarm)):\n",
      "            if i != gbest:\n",
      "                self.swarm[i].update_particle(self.swarm[gbest])\n",
      "                pos_fit = problem(self.swarm[i].position)\n",
      "                pbest_fit = problem(self.swarm[i].pbest)\n",
      "                if pos_fit < pbest_fit:\n",
      "                    self.swarm[i].pbest = self.swarm[i].position\n",
      "                positions.append(self.swarm[i].pbest)\n",
      "                fitnesses.append(pos_fit)\n",
      "        gbest_fit = problem(self.swarm[gbest].position)\n",
      "        positions.append(self.swarm[gbest].position)\n",
      "        fitnesses.append(gbest_fit)\n",
      "        return positions, fitnesses"
     ],
     "language": "python",
     "metadata": {},
     "outputs": [],
     "prompt_number": 529
    },
    {
     "cell_type": "code",
     "collapsed": false,
     "input": [
      "optimizer = Optimizer(10, 1, problem_1d)\n",
      "pos, fit = optimizer.optimize(0)\n",
      "plt.plot(x_axis, values)\n",
      "plt.plot(pos, fit, 'go')"
     ],
     "language": "python",
     "metadata": {},
     "outputs": [
      {
       "metadata": {},
       "output_type": "pyout",
       "prompt_number": 537,
       "text": [
        "[<matplotlib.lines.Line2D at 0x335b0518>]"
       ]
      },
      {
       "metadata": {},
       "output_type": "display_data",
       "png": "[encoded data removed]",
       "text": [
        "<matplotlib.figure.Figure at 0x333a2390>"
       ]
      }
     ],
     "prompt_number": 537
    },
    {
     "cell_type": "code",
     "collapsed": false,
     "input": [
      "pos, fit = optimizer.optimize(5)\n",
      "plt.plot(x_axis, values)\n",
      "plt.plot(pos, fit, 'go')\n",
      "plt.plot(pos[len(pos) - 1], fit[len(fit) - 1], 'ko')"
     ],
     "language": "python",
     "metadata": {},
     "outputs": [
      {
       "metadata": {},
       "output_type": "pyout",
       "prompt_number": 539,
       "text": [
        "[<matplotlib.lines.Line2D at 0x34364ba8>]"
       ]
      },
      {
       "metadata": {},
       "output_type": "display_data",
       "png": "[encoded data removed]",
       "text": [
        "<matplotlib.figure.Figure at 0x341006a0>"
       ]
      }
     ],
     "prompt_number": 539
    },
    {
     "cell_type": "code",
     "collapsed": false,
     "input": [
      "pos, fit = optimizer.optimize(5)\n",
      "plt.plot(x_axis, values)\n",
      "plt.plot(pos, fit, 'go')\n",
      "plt.plot(pos[len(pos) - 1], fit[len(fit) - 1], 'ko')"
     ],
     "language": "python",
     "metadata": {},
     "outputs": [
      {
       "metadata": {},
       "output_type": "pyout",
       "prompt_number": 540,
       "text": [
        "[<matplotlib.lines.Line2D at 0x34532da0>]"
       ]
      },
      {
       "metadata": {},
       "output_type": "display_data",
       "png": "[encoded data removed]",
       "text": [
        "<matplotlib.figure.Figure at 0x34372160>"
       ]
      }
     ],
     "prompt_number": 540
    },
    {
     "cell_type": "code",
     "collapsed": false,
     "input": [],
     "language": "python",
     "metadata": {},
     "outputs": []
    }
   ],
   "metadata": {}
  }
 ]
}