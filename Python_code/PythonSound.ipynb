{
 "cells": [
  {
   "cell_type": "markdown",
   "metadata": {},
   "source": [
    "# Python Sound\n",
    "\n",
    "Copyright Feb 11, 2016 by Michael Lamoureux. All rights reserved\n",
    "\n",
    "Goal\n",
    "- get sampled sound in and out of the Mac computer (COMPLETED!)\n",
    "- get sampled sound in and out of any computer OS that supports sound (MAYBE I DON'T CARE)\n",
    "- get sampled sound in and out in real time, with options to process the sound in real time\n",
    "\n",
    "Minor goals\n",
    "- Can we launch Jupyter Notebook from an application, not a line command in Terminal?\n",
    "(why? because I hate using terminal, I hate having to remember the appropriate syntax just to launch something, and in general I hate typing, and searching for a decent terminal. And I hate having to figure out what folder to navigate to in the terminal, before launching the notebook). \n",
    "- YES! COMPLETED: used Applescript.\n",
    "- Can we document our attempts to get this to work, and even save the bad attempts, without messing up the good stuff? (Maybe we write code, and comment it out if it does not work. Maybe we write down when we restart the kernel.)\n",
    "- MAYBE: Try using triple back quotes, to turn code to verbatim, and mark as \"markdown.\"\n",
    "- Can we run a whole notebook of code, not just cell-by-cell? \n",
    "- YES! COMPLETED: Use \"Cell/Run All\" menu item. \n",
    "- Can we carry these ideas over to Julia?"
   ]
  },
  {
   "cell_type": "markdown",
   "metadata": {},
   "source": [
    "### Pineapple\n",
    "Tried out Pineapple, which is supposed to be a Mac-native application that runs like a Julia notebook. I found it here: https://nwhitehead.github.io/pineapple/\n",
    "However, it does not seem to launch -- double click and it dies. I tried both the full version and the limited version, with Python 2.7. No luck.\n"
   ]
  },
  {
   "cell_type": "markdown",
   "metadata": {},
   "source": [
    "## Applescript\n",
    "Life's too short. I wrote a simple AppleScript file and saved it as an app. I called it \"JupyterNotebook.\" Double clicking it launches the Jupyter notebook for me. For the record, here is the AppleScipt code (which is also saved on file). \n",
    "```\n",
    "tell application \"Finder\"\n",
    "    activate\n",
    "    open application file \"Terminal.app\" of folder \"Utilities\" of folder \"Applications\" of startup disk\n",
    "end tell\n",
    "```\n",
    "Actually, this code isn't great. See the next paragraph."
   ]
  },
  {
   "cell_type": "markdown",
   "metadata": {
    "collapsed": true
   },
   "source": [
    "Well, fuck it, that last code only opened the terminal. Here is some Applescript that actually launches Jupyter Notebook. The script \"\" is a hack to get a new terminal window, then the following line actually launches the notebook.\n",
    "```\n",
    "tell application \"Terminal\"\n",
    "    do script \"\"\n",
    "    do script \"jupyter notebook\"\n",
    "end tell\n",
    "```\n",
    "I saved this as an application, using the Applescript editor (which is in the Applications/Utilities folder on the Mac). Now I just click on the icon and it launches Jupyter Notebook in a browser for me. \n"
   ]
  },
  {
   "cell_type": "markdown",
   "metadata": {},
   "source": [
    "## Sound output on python.\n",
    "Reading around the web, I got the suggestion to use the \"sounddevice\" module which includes PortAudio. I insalled it by typing the following command into a terminal window\n",
    "```\n",
    "pip install sounddevice --user\n",
    "```\n",
    "Documentation for it is here: http://python-sounddevice.readthedocs.org/en/0.3.1/\n",
    "\n",
    "Note: I accidentally first installed \"soundfile\" I don't know why. \n",
    "\n",
    "While I was at it, I also upgraded pip to version 8.0.2 using the command\n",
    "```\n",
    "pip install --upgrade pip\n",
    "```\n"
   ]
  },
  {
   "cell_type": "code",
   "execution_count": 2,
   "metadata": {
    "collapsed": false
   },
   "outputs": [
    {
     "data": {
      "text/plain": [
       "[<matplotlib.lines.Line2D at 0x10c638f50>]"
      ]
     },
     "execution_count": 2,
     "metadata": {},
     "output_type": "execute_result"
    },
    {
     "data": {
      "image/png": "[encoded data removed]",
      "text/plain": [
       "<matplotlib.figure.Figure at 0x1043c4690>"
      ]
     },
     "metadata": {},
     "output_type": "display_data"
    }
   ],
   "source": [
    "%matplotlib inline\n",
    "\n",
    "import matplotlib\n",
    "import numpy as np\n",
    "import matplotlib.pyplot as plt\n",
    "\n",
    "Fs = 44100;\n",
    "t = np.linspace(0,1,Fs)\n",
    "x = np.sin(2*np.pi*440*t)\n",
    "env = np.sin(np.pi*t)\n",
    "plt.plot(t,env*x)"
   ]
  },
  {
   "cell_type": "code",
   "execution_count": 7,
   "metadata": {
    "collapsed": false
   },
   "outputs": [],
   "source": [
    "import sounddevice as sd\n",
    "sd.play(env*x, Fs)"
   ]
  },
  {
   "cell_type": "markdown",
   "metadata": {
    "collapsed": true
   },
   "source": [
    "OH YEAH!  It works!\n",
    "\n",
    "Note that I had to install \"sounddevice\" using pip first (in the terminal), then had to shut down the jupyter service (i.e. quit it in the terminal), then start it up again. That way, the Python code was finally able to import sounddevice, and then I was able to play the sound. Note that \"x\" is a simple sine wave, while \"x*env\" is the sine wave modulated with a smooth envelop. "
   ]
  },
  {
   "cell_type": "code",
   "execution_count": 8,
   "metadata": {
    "collapsed": true
   },
   "outputs": [],
   "source": [
    "sd.play(env*x, Fs)"
   ]
  },
  {
   "cell_type": "markdown",
   "metadata": {},
   "source": [
    "## Sound input on python.\n",
    "Using the same sounddevice module, I should be able to input sound as well. "
   ]
  },
  {
   "cell_type": "code",
   "execution_count": 32,
   "metadata": {
    "collapsed": true
   },
   "outputs": [],
   "source": [
    "duration = 2  # seconds\n",
    "myrecording = sd.rec(duration * Fs, samplerate=Fs, channels=1)\n",
    "# When you run this cell, you need to talk or something for the recording. "
   ]
  },
  {
   "cell_type": "code",
   "execution_count": 10,
   "metadata": {
    "collapsed": false
   },
   "outputs": [
    {
     "data": {
      "text/plain": [
       "88200"
      ]
     },
     "execution_count": 10,
     "metadata": {},
     "output_type": "execute_result"
    }
   ],
   "source": [
    "np.size(myrecording)"
   ]
  },
  {
   "cell_type": "code",
   "execution_count": 33,
   "metadata": {
    "collapsed": false
   },
   "outputs": [
    {
     "data": {
      "text/plain": [
       "[<matplotlib.lines.Line2D at 0x110a3b050>]"
      ]
     },
     "execution_count": 33,
     "metadata": {},
     "output_type": "execute_result"
    },
    {
     "data": {
      "image/png": "[encoded data removed]",
      "text/plain": [
       "<matplotlib.figure.Figure at 0x1107f2a50>"
      ]
     },
     "metadata": {},
     "output_type": "display_data"
    }
   ],
   "source": [
    "plt.plot(myrecording)"
   ]
  },
  {
   "cell_type": "code",
   "execution_count": 34,
   "metadata": {
    "collapsed": true
   },
   "outputs": [],
   "source": [
    "sd.play(10*myrecording, Fs)\n"
   ]
  },
  {
   "cell_type": "code",
   "execution_count": null,
   "metadata": {
    "collapsed": true
   },
   "outputs": [],
   "source": []
  }
 ],
 "metadata": {
  "kernelspec": {
   "display_name": "Python 2",
   "language": "python",
   "name": "python2"
  },
  "language_info": {
   "codemirror_mode": {
    "name": "ipython",
    "version": 2
   },
   "file_extension": ".py",
   "mimetype": "text/x-python",
   "name": "python",
   "nbconvert_exporter": "python",
   "pygments_lexer": "ipython2",
   "version": "2.7.10"
  }
 },
 "nbformat": 4,
 "nbformat_minor": 0
}
